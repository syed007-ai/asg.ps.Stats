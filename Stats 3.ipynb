{
 "cells": [
  {
   "cell_type": "markdown",
   "id": "1789ebf4-e4c3-4cb8-bf2b-809f60eb7296",
   "metadata": {},
   "source": [
    "# 1. What is the Probability density function?"
   ]
  },
  {
   "cell_type": "markdown",
   "id": "1a4bf184-bb26-44d3-af3e-7ae1cf419ea9",
   "metadata": {},
   "source": [
    "- > > Probability Density Function (PDF) is a concept in statistics that helps us understand the likelihood of different outcomes or values occurring in a continuous random variable. \n",
    "- In simpler terms, it tells us the probability of different values within a range.\n",
    "\n",
    "> Imagine you have a bell-shaped curve, like the shape of a hill. \n",
    "- The PDF describes how likely it is to find a particular value on that curve. \n",
    "- The height of the curve at any given point represents the probability of that value occurring. \n",
    "- Higher points on the curve mean higher probabilities, while lower points mean lower probabilities.\n",
    "\n",
    "* > For example, let's say we have a PDF for the heights of adult males. \n",
    "- The PDF curve will be highest around the average height for men, representing the most common height.\n",
    "- As we move away from the average, the curve gets lower, indicating less likelihood of finding people with those heights.\n",
    "\n",
    "> The PDF helps us understand the distribution of values and the likelihood of specific outcomes in a continuous random variable. \n",
    "- It provides insights into the relative probabilities of different values within a given range."
   ]
  },
  {
   "cell_type": "markdown",
   "id": "88ca6d28-3fd5-4b34-9469-8060870f15f2",
   "metadata": {},
   "source": [
    " # 2. What are the types of Probability distribution?"
   ]
  },
  {
   "cell_type": "markdown",
   "id": "a5ac4f65-fef1-4395-9f99-47d4a128141b",
   "metadata": {},
   "source": [
    "> > There are various types of probability distributions that describe the likelihood of different outcomes. Two common types are:\n",
    "\n",
    "> * Discrete Probability Distribution: This type of distribution represents outcomes that can only take specific values.\n",
    "- For example, when rolling a six-sided die, the possible outcomes are discrete (1, 2, 3, 4, 5, 6).\n",
    "\n",
    "> * Continuous Probability Distribution: This type of distribution represents outcomes that can take any value within a certain range.\n",
    "- For example, the heights of people or the time it takes to complete a task can be modeled using a continuous distribution.\n",
    "- Eg: Consider the scenario of flipping a fair coin. The outcome can only be either heads or tails, which makes it a discrete probability distribution."
   ]
  },
  {
   "cell_type": "markdown",
   "id": "02a0e16f-f2f8-4c1c-80fc-9bb3cb006506",
   "metadata": {},
   "source": [
    "# 3. Write a Python function to calculate the probability density function of a normal distribution with given mean and standard deviation at a given point."
   ]
  },
  {
   "cell_type": "code",
   "execution_count": 3,
   "id": "7478e828-a4c9-4c8f-9fa8-19cefaf129e0",
   "metadata": {},
   "outputs": [
    {
     "name": "stdout",
     "output_type": "stream",
     "text": [
      " Result :  0.004382075123392135\n"
     ]
    }
   ],
   "source": [
    "from scipy.stats import norm\n",
    "\n",
    "def cal_pdf_normal(mean, std_dev, point) :\n",
    "    pdf_value = norm.pdf(point,mean, std_dev)\n",
    "    return pdf_value\n",
    "\n",
    "mean = 20\n",
    "std_dev = 4\n",
    "point= 10\n",
    "print(\" Result : \", cal_pdf_normal(mean, std_dev, point))"
   ]
  },
  {
   "cell_type": "markdown",
   "id": "57ca2c95-90d6-4da5-9f97-17690fcd50de",
   "metadata": {},
   "source": [
    "# 4.  What are the properties of Binomial distribution? Give two examples of events where binomial distribution can be applied."
   ]
  },
  {
   "cell_type": "markdown",
   "id": "d5facc11-95c5-40cc-abad-6ecb2c5bdb6f",
   "metadata": {},
   "source": [
    "> > The binomial distribution has the following properties:\n",
    "\n",
    "- It models the number of successes in a fixed number of independent Bernoulli trials.\n",
    "- Each trial has only two possible outcomes: success or failure.\n",
    "- The trials are independent and have the same probability of success.\n",
    "\n",
    "> Examples where the binomial distribution can be applied:\n",
    "\n",
    "- Flipping a coin multiple times: If you flip a fair coin multiple times and count the number of heads, it follows a binomial distribution.\n",
    "- Survey responses: If you conduct a survey with questions having yes/no answers and count the number of \"yes\" responses, it can be modeled using a binomial distribution."
   ]
  },
  {
   "cell_type": "markdown",
   "id": "4f642c02-50db-4c4c-87a3-583ce8f298b5",
   "metadata": {},
   "source": [
    "# 5. Generate a random sample of size 1000 from a binomial distribution with probability of success 0.4 and plot a histogram of the results using matplotlib."
   ]
  },
  {
   "cell_type": "code",
   "execution_count": 10,
   "id": "f16d33f3-4556-4bd0-b45a-454493d35298",
   "metadata": {},
   "outputs": [
    {
     "data": {
      "image/png": "[encoded data removed]",
      "text/plain": [
       "<Figure size 640x480 with 1 Axes>"
      ]
     },
     "metadata": {},
     "output_type": "display_data"
    }
   ],
   "source": [
    "import numpy as np\n",
    "import matplotlib.pyplot as plt\n",
    "%matplotlib inline\n",
    "\n",
    "sample = np.random.binomial(size= 1000, n = 1, p = 0.4 )\n",
    "plt.hist(sample, bins= 10 , alpha = 0.5)\n",
    "plt.xlabel(\" Outcome \")\n",
    "plt.ylabel(\" Frequency \")\n",
    "plt.show()"
   ]
  },
  {
   "cell_type": "markdown",
   "id": "1d001ee1-0867-4d4b-be84-a38fe51609ee",
   "metadata": {},
   "source": [
    "# 6. Write a Python function to calculate the cumulative distribution function of a Poisson distribution with given mean at a given point."
   ]
  },
  {
   "cell_type": "code",
   "execution_count": 18,
   "id": "d2dda9e3-c6e4-4df6-ac3d-7f2550f93c42",
   "metadata": {},
   "outputs": [
    {
     "name": "stdout",
     "output_type": "stream",
     "text": [
      " Result :  1.694474393006737e-05\n"
     ]
    }
   ],
   "source": [
    "from scipy.stats import poisson\n",
    "\n",
    "def cal_cdf_poisson(mean , point):\n",
    "    cdf_value = poisson.cdf(point, mean)\n",
    "    return cdf_value \n",
    "\n",
    "mean = 20\n",
    "point = 4\n",
    "print(\" Result : \", cal_cdf_poisson(mean, point))"
   ]
  },
  {
   "cell_type": "markdown",
   "id": "eb9c32a6-1bad-4bee-aada-8ffc2857efe8",
   "metadata": {},
   "source": [
    "# 7. How Binomial distribution different from Poisson distribution?"
   ]
  },
  {
   "cell_type": "markdown",
   "id": "2591e85e-6be9-4767-8bae-cc3bfe570c94",
   "metadata": {},
   "source": [
    "> > The main differences between the binomial distribution and the Poisson distribution can be understood using a cooking example.\n",
    "\n",
    "> In summary, the binomial distribution is used for a fixed number of independent trials with two possible outcomes, while the Poisson distribution is used for the occurrence of events within a fixed interval based on an average rate.\n",
    "\n",
    "> > Imagine you're making cookies. The binomial distribution would be suitable for modeling the number of cookies that turn out perfectly (success) out of a fixed number of attempts (trials). \n",
    "- Each cookie can either be perfect or imperfect, and the trials are independent. \n",
    "- For example, if you bake 10 cookies and the probability of a cookie turning out perfectly is 0.8, you can use the binomial distribution to analyze the number of successful cookies (successes) out of the 10 attempts (trials).\n",
    "\n",
    "> > On the other hand, the Poisson distribution would be suitable for modeling the number of chocolate chips in a cookie.\n",
    "- Suppose the average number of chocolate chips in a cookie is 5. \n",
    "- The Poisson distribution can help analyze the likelihood of observing a specific number of chocolate chips in a randomly selected cookie. \n",
    "- In this case, the Poisson distribution focuses on the occurrence of events (number of chocolate chips) within a fixed interval (a single cookie) based on an average rate."
   ]
  },
  {
   "cell_type": "markdown",
   "id": "c3e12c4d-fe75-48c0-8e86-a5fad617445e",
   "metadata": {},
   "source": [
    "# 8. Generate a random sample of size 1000 from a Poisson distribution with mean 5 and calculate the sample mean and variance."
   ]
  },
  {
   "cell_type": "code",
   "execution_count": 20,
   "id": "b2f61372-120c-415d-88bf-99092b65f823",
   "metadata": {},
   "outputs": [
    {
     "name": "stdout",
     "output_type": "stream",
     "text": [
      " Sample Mean :  4.96\n",
      " Sample Variance :  5.0924\n"
     ]
    }
   ],
   "source": [
    "import numpy as np\n",
    "\n",
    "sample2 = np.random.poisson(lam= 5 , size= 1000)\n",
    "sample_mean = np.mean(sample2)\n",
    "sample_variance = np.var(sample2)\n",
    "\n",
    "print(\" Sample Mean : \", sample_mean)\n",
    "print(\" Sample Variance : \", sample_variance)\n"
   ]
  },
  {
   "cell_type": "markdown",
   "id": "58f49414-ecf0-453a-926e-c83fd58db34d",
   "metadata": {},
   "source": [
    "# 9. How mean and variance are related in Binomial distribution and Poisson distribution?"
   ]
  },
  {
   "cell_type": "markdown",
   "id": "5e04a329-d898-4783-8e49-b8a162af5aa6",
   "metadata": {},
   "source": [
    "> > In both the binomial and Poisson distributions, the mean (average) and variance are related as follows:\n",
    "\n",
    "> - Binomial Distribution: The mean of a binomial distribution is equal to the product of the number of trials (n) and the probability of success (p). \n",
    "- The variance is given by the product of n, p, and (1-p).\n",
    "> - Poisson Distribution: The mean of a Poisson distribution is equal to its variance.\n",
    "- This means that in a binomial distribution, as the number of trials or the probability of success increases, both the mean and variance increase. \n",
    "- In a Poisson distribution, the mean and variance are always equal."
   ]
  },
  {
   "cell_type": "markdown",
   "id": "5af62c4f-2004-42b9-ae1d-6214b86b2acb",
   "metadata": {},
   "source": [
    "# 10. In normal distribution with respect to mean position, where does the least frequent data appear?"
   ]
  },
  {
   "cell_type": "markdown",
   "id": "a4cd5db8-e51c-418d-9c1e-fb15cc520918",
   "metadata": {},
   "source": [
    "> - In a normal distribution, the least frequent data appears in the tails or extremes of the distribution. \n",
    "- The data becomes increasingly less frequent as you move away from the mean in both directions. \n",
    "- The mean is the point of highest frequency or the peak of the bell-shaped curve."
   ]
  }
 ],
 "metadata": {
  "kernelspec": {
   "display_name": "Python 3 (ipykernel)",
   "language": "python",
   "name": "python3"
  },
  "language_info": {
   "codemirror_mode": {
    "name": "ipython",
    "version": 3
   },
   "file_extension": ".py",
   "mimetype": "text/x-python",
   "name": "python",
   "nbconvert_exporter": "python",
   "pygments_lexer": "ipython3",
   "version": "3.10.8"
  }
 },
 "nbformat": 4,
 "nbformat_minor": 5
}
