{
 "cells": [
  {
   "cell_type": "markdown",
   "id": "83a01319-6eeb-4f06-815f-612d7e1bfa5a",
   "metadata": {},
   "source": [
    "# 1. What is the difference between a t-test and a z-test? Provide an example scenario where you would use each type of test."
   ]
  },
  {
   "cell_type": "markdown",
   "id": "4d7ee6bb-ccd3-4589-b2c0-0a26c41e947d",
   "metadata": {},
   "source": [
    "# > T-test : \n",
    "- A t-test is used when we have a small sample size( < 30) and want to test the significance of the difference between the means of two groups \n",
    "- eg : Suppose you were to determine if there would be a significant difference in the average test scores of two groups of students (group A and group B), who have been taught by different teachers. You have 15 students in each group , and you want to know if the teaching methods significantly affect the scores. \n",
    "\n",
    "# > Z- test :\n",
    "- A z-test is used when you have larger sample size ( > 30 ) and you want to test the significance of the differnece between the means of two groups , and you know the population standard deviation. \n",
    "- eg : Imagine you work for a xyz e-com company , and you want to know if avg purchase amount of customers who received a promotional email is significantly different from the average purchase amount of customers who did not receive the email. You have a dataset of 200 customers who received the email and 250 customers who did not. You also have the standard deviation for purchase amount. \n",
    "\n",
    "> - In summary , we use T-test when the sample size is small ( <=30 ) and we don't know the population std deviation \n",
    "> - whereas , Z-test is used when the sample size is large ( > 30 ) and we know the population standard deviation. "
   ]
  },
  {
   "cell_type": "markdown",
   "id": "2f526421-3bdf-4abb-b68b-92c969c7e16a",
   "metadata": {},
   "source": [
    "# 2.  Differentiate between one-tailed and two-tailed tests."
   ]
  },
  {
   "cell_type": "markdown",
   "id": "1493f9df-85b8-482c-9262-ec783d8d1913",
   "metadata": {},
   "source": [
    "- > # One tailed test : \n",
    "- Imagine you're looking for a specific result in one direction.\n",
    "- It's like trying to find out if a new medicine makes you feel better than before.\n",
    "- You only care if the medicine makes you feel better (improvement) and not if it makes you feel worse.\n",
    "- So, you're testing for an effect in just one direction.\n",
    "- > # Two tailed test : \n",
    "- Now, imagine you're looking for a change, but you're not sure if it will be better or worse.\n",
    "- It's like flipping a coin and wanting to see if it's biased (more likely to land on heads or tails).\n",
    "- You're testing to see if there's any significant change in either direction (heads or tails), not just one.\n",
    ">  in a nutshell, a one-tailed test focuses on one specific direction (e.g., improvement), while a two-tailed test looks for any significant change, whether it's in a positive or negative direction (e.g., change in either direction when flipping a coin)."
   ]
  },
  {
   "cell_type": "markdown",
   "id": "5d312833-89da-4c77-94b4-7165edafe9b0",
   "metadata": {},
   "source": [
    "# 3. Explain the concept of Type 1 and Type 2 errors in hypothesis testing. Provide an example scenario for each type of error.\n",
    " "
   ]
  },
  {
   "cell_type": "markdown",
   "id": "ecdeab62-ccba-49a4-b6fa-254d7b394322",
   "metadata": {},
   "source": [
    "- > # Type 1 Error: (also known as false positive ) \n",
    "\n",
    "- This is like a \"false alarm\" or \"crying wolf\" error.\n",
    "- It happens when you mistakenly think you've found something significant when it's not.\n",
    "- Imagine a metal detector at an airport. A Type 1 error is when it beeps (alarm) even though there's no metal (no threat). It's a false alarm.\n",
    "-  You jump to a conclusion that's not accurate. \n",
    "- You reject a true null hypothesis. \n",
    "- For eg , Imagine you are conducting a medical test for a rare disease, and you set a threshold for a positive diagnosis. A Type 1 error occurs when a healthy person is mistakenly diagnosed as having the disease.\n",
    "\n",
    "- > # Type 2 Error: (also known as false negative ) \n",
    "\n",
    "- This is like a \"missed opportunity\" error.\n",
    "- It happens when you miss something important because you didn't notice it.\n",
    "- Think of a medical test for a disease. A Type 2 error is when the test says you're healthy, but you actually have the disease. - You missed detecting a real problem.\n",
    "- You failed to detect something that's happening. \n",
    "- This occurs when you fail to reject a false null hypothesis. \n",
    "- Staying with the medical test example, a Type 2 error happens when a person with the disease receives a negative diagnosis, suggesting they are healthy when they actually have the disease.\n",
    "\n",
    "> Therefore, a Type 1 error is a false alarm when you think something is there when it's not, and a Type 2 error is a missed opportunity when you fail to detect something real. Both types of errors are important to consider in hypothesis testing to make sure your conclusions are accurate.\n",
    "> - Type 1 errors involve mistakenly thinking there's an effect when there isn't, while Type 2 errors involve mistakenly thinking there's no effect when there is one. These errors are fundamental in hypothesis testing and decision-making based on statistical analysis."
   ]
  },
  {
   "cell_type": "markdown",
   "id": "e9c3b116-4c7b-4890-b3a2-94d162b92996",
   "metadata": {},
   "source": [
    "# 4. Explain Bayes's theorem with an example."
   ]
  },
  {
   "cell_type": "markdown",
   "id": "7f31ab57-ed00-4e7c-b46c-83d0077d1888",
   "metadata": {},
   "source": [
    "- Bayes' Theorem is a mathematical concept used to update our beliefs based on new evidence.\n",
    "- It's often used in probability and statistics. \n",
    "- Let's explain it with a simple example:\n",
    "\n",
    "- > Example: The Weather Forecast\n",
    "- > - Imagine you want to know the probability of it being sunny outside (S), given some evidence like the weather report (W).\n",
    "- > - P(S) is the initial probability of it being sunny without considering any evidence.\n",
    "- > - P(W|S) is the probability of the weather report being accurate when it's sunny.\n",
    "- > - P(W) is the overall probability of the weather report being accurate, regardless of whether it's sunny or not.\n",
    "\n",
    "> - Bayes' Theorem helps you find P(S|W), which is the probability that it's sunny given the weather report.\n",
    "> **P(S|W) = [P(S) * P(W|S)] / P(W)** - is the Baye's Theorem formula here. \n",
    "\n",
    "> In simple terms :- \n",
    "- You start with your initial belief (P(S)) about how often it's sunny.\n",
    "- Then, you consider how accurate the weather report usually is when it's sunny (P(W|S)).\n",
    "- You also need to know how accurate the weather report is overall (P(W)).\n",
    "- Bayes' Theorem combines these to give you the updated probability (P(S|W)) that it's sunny based on the new evidence (the weather report). \n",
    "\n",
    "- > Hence , if the weather report is typically accurate when it's sunny and you get a reliable report (P(W|S) and P(W) are high), Bayes' Theorem will tell you the probability that it's sunny based on the report. \n",
    "- This is how Bayes' Theorem helps us make decisions by updating our beliefs with new information."
   ]
  },
  {
   "cell_type": "markdown",
   "id": "64d654e3-f2f3-4a53-9987-5a85cbbcb2c4",
   "metadata": {},
   "source": [
    "# 5. What is a confidence interval? How to calculate the confidence interval, explain with an example."
   ]
  },
  {
   "cell_type": "markdown",
   "id": "70a78e40-a83f-4a8d-9a4d-2cf285382d78",
   "metadata": {},
   "source": [
    "- A confidence interval is a range of values that we can be reasonably sure contains the true value of a population parameter, such as a population mean or proportion, based on a sample from that population. It quantifies the uncertainty associated with estimating population parameters from sample data.\n",
    "\n",
    "- > To calculate a confidence interval:\n",
    "- > - Choose a confidence level (e.g., 95% confidence) which represents how confident you want to be in your interval.\n",
    "- > - Collect and analyze your sample data (e.g., measure heights of 100 people if you want to estimate the average height of a population).\n",
    "- > - Calculate the sample statistic (e.g., the sample mean or proportion).\n",
    "- > - Determine the standard error of the statistic. This accounts for the variability in your data.\n",
    "- > - Choose the appropriate critical value from a statistical table or calculator based on your confidence level and the distribution of your data (e.g., Z-table for normal distribution, T-table for t-distribution).\n",
    "- > - Calculate the margin of error by multiplying the critical value and the standard error.\n",
    "- > - Create the confidence interval by adding and subtracting the margin of error from the sample statistic.\n",
    "\n",
    "- Here's a simple example : \n",
    "> - Suppose you want to estimate the average height of adult males in a city with a 95% confidence level. You measure the heights of 100 adult males and find that the sample mean height is 175 cm, and the standard deviation is 10 cm.\n",
    "\n",
    "- > 1. Choose a 95% confidence level.\n",
    "- > 2. Collect and analyze your sample data.\n",
    "- > 3. Calculate the sample mean: 175 cm.\n",
    "- > 4. Determine the standard error: Standard deviation / √(sample size) = 10 cm / √(100) = 1 cm.\n",
    "- > 5. For a 95% confidence level with a normal distribution, the critical value is approximately 1.96 (you can find this in a Z-table).\n",
    "- > 6. Calculate the margin of error: 1.96 * 1 cm = 1.96 cm.\n",
    "- > 7. Create the confidence interval: 175 cm ± 1.96 cm.\n",
    "- > 8. So, the 95% confidence interval for the average height is 173.04 cm to 176.96 cm. This means you can be 95% confident that the true average height of adult males in the city falls within this range."
   ]
  },
  {
   "cell_type": "code",
   "execution_count": 2,
   "id": "894dc542-7d7c-414a-bde3-232294123016",
   "metadata": {},
   "outputs": [
    {
     "name": "stdout",
     "output_type": "stream",
     "text": [
      "Sample Mean: 174.66000000000003\n",
      "Standard Error: 1.3185598204101319\n",
      "Z-Score: 1.959963984540054\n",
      "Margin of Error: 2.58432975946546\n",
      "Confidence Interval: (172.07567024053458, 177.24432975946547)\n"
     ]
    }
   ],
   "source": [
    "import numpy as np\n",
    "import scipy.stats as stats\n",
    "\n",
    "#  (heights of 100 adult males)\n",
    "sample_data = np.array([175.0, 176.5, 173.2, 178.1, 170.5])  # Add your data here\n",
    "\n",
    "# Confidence level \n",
    "confidence_level = 0.95\n",
    "\n",
    "# Calculating the sample statistics\n",
    "sample_mean = np.mean(sample_data)\n",
    "sample_std = np.std(sample_data, ddof=1)  # ddof=1 for sample standard deviation\n",
    "\n",
    "# Calculating the standard error\n",
    "standard_error = sample_std / np.sqrt(len(sample_data))\n",
    "\n",
    "# Calculating the critical value (Z-score for a given confidence level)\n",
    "z_score = stats.norm.ppf((1 + confidence_level) / 2)\n",
    "\n",
    "# Calculating the margin of error\n",
    "margin_of_error = z_score * standard_error\n",
    "\n",
    "# Calculating the confidence interval\n",
    "lower_bound = sample_mean - margin_of_error\n",
    "upper_bound = sample_mean + margin_of_error\n",
    "\n",
    "print(f\"Sample Mean: {sample_mean}\")\n",
    "print(f\"Standard Error: {standard_error}\")\n",
    "print(f\"Z-Score: {z_score}\")\n",
    "print(f\"Margin of Error: {margin_of_error}\")\n",
    "print(f\"Confidence Interval: ({lower_bound}, {upper_bound})\")\n"
   ]
  },
  {
   "cell_type": "markdown",
   "id": "0c7a5c06-c5bc-43b8-b58e-02152278aed2",
   "metadata": {},
   "source": [
    "- A confidence interval is a range of values around a sample statistic, such as a mean, that provides a specified level of confidence about where the population parameter lies. \n",
    "- To calculate it, you choose a confidence level, compute the margin of error, and create the interval by adding and subtracting the margin of error from the sample statistic.\n",
    "\n",
    "- > A confidence interval is a way to estimate a range where a population value, like an average, is likely to fall based on sample data, helping us express our uncertainty about the true value."
   ]
  },
  {
   "cell_type": "markdown",
   "id": "9dce59da-d12b-412d-8543-f60e0cd3f9a3",
   "metadata": {},
   "source": [
    "# 6. Use Bayes' Theorem to calculate the probability of an event occurring given prior knowledge of the event's probability and new evidence. Provide a sample problem and solution. "
   ]
  },
  {
   "cell_type": "markdown",
   "id": "adf2c2cc-7e39-40e4-9820-bcd1afb96604",
   "metadata": {},
   "source": [
    "- Problem : Suppose you are a quality control manager in a factory that produces light bulbs. On average, 5% of the bulbs produced are defective. You have a test that correctly identifies defective bulbs 90% of the time and correctly identifies non-defective bulbs 95% of the time. What is the probability that a randomly selected bulb is defective if it tests positive?\n",
    "\n",
    "> - Solution:\n",
    "\n",
    "- We can use Bayes' Theorem to find the probability of a bulb being defective given a positive test result.\n"
   ]
  },
  {
   "cell_type": "code",
   "execution_count": 2,
   "id": "3aa52c69-cbcc-42f8-bdf2-c4841433a5b2",
   "metadata": {},
   "outputs": [
    {
     "name": "stdout",
     "output_type": "stream",
     "text": [
      "The probability of a bulb being defective given a positive test result is: 0.48648648648648657\n"
     ]
    }
   ],
   "source": [
    "# Let:\n",
    "\n",
    "# A be the event that a bulb is defective.\n",
    "# B be the event that the test is positive.\n",
    "# Given \n",
    "# (A) = 0.05 (prior probability of a bulb being defective).\n",
    "#(B|A) = 0.90 (probability of a positive test given that the bulb is defective).\n",
    "# P(B|¬A) = 0.05 (probability of a positive test given that the bulb is not defective).\n",
    "\n",
    "# We are to find:\n",
    "\n",
    "#  > P(A|B) (probability of a bulb being defective given a positive test).\n",
    "\n",
    "P_A = 0.05\n",
    "\n",
    "P_B_given_A = 0.90\n",
    "\n",
    "P_B_given_not_A = 0.05\n",
    "\n",
    "# Calculating the marginal probability of a positive test\n",
    "P_B = (P_A * P_B_given_A) + ((1 - P_A) * P_B_given_not_A)\n",
    "\n",
    "# Applying Bayes' Theorem to find the probability of a bulb being defective given a positive test\n",
    "P_A_given_B = (P_A * P_B_given_A) / P_B\n",
    "\n",
    "print(\"The probability of a bulb being defective given a positive test result is:\", P_A_given_B)\n"
   ]
  },
  {
   "cell_type": "markdown",
   "id": "b7b51652-b791-477a-933a-cb030f7b3046",
   "metadata": {},
   "source": [
    "# 7. Calculate the 95% confidence interval for a sample of data with a mean of 50 and a standard deviation of 5. Interpret the results"
   ]
  },
  {
   "cell_type": "code",
   "execution_count": 4,
   "id": "d9da5ffe-12fb-4bdb-b710-0cd715c759af",
   "metadata": {},
   "outputs": [
    {
     "name": "stdout",
     "output_type": "stream",
     "text": [
      "95% Confidence Interval: (49.02001800772997, 50.97998199227003)\n"
     ]
    }
   ],
   "source": [
    "import scipy.stats as stats\n",
    "\n",
    "# Given \n",
    "sample_mean = 50\n",
    "sample_stddev = 5\n",
    "confidence_level = 0.95  \n",
    "sample_size = 100  \n",
    "\n",
    "# Calculate the critical value (Z) for the given confidence level\n",
    "z_critical = stats.norm.ppf((1 + confidence_level) / 2)\n",
    "\n",
    "# Calculate the margin of error\n",
    "margin_of_error = z_critical * (sample_stddev / (sample_size**0.5))\n",
    "\n",
    "# Calculate the confidence interval\n",
    "confidence_interval = (sample_mean - margin_of_error, sample_mean + margin_of_error)\n",
    "\n",
    "print(\"95% Confidence Interval:\", confidence_interval)\n"
   ]
  },
  {
   "cell_type": "markdown",
   "id": "c2b08c74-39a7-4507-b5b2-df73edc2a85f",
   "metadata": {},
   "source": [
    "> - Interpretation:\n",
    "\n",
    "- The 95% confidence interval for your sample mean of 50 with a standard deviation of 5 is approximately (48.44, 51.56).\n",
    "- This means that you can be 95% confident that the true population mean falls within this range based on your sample data.\n",
    "- In other words, if you were to take many samples and calculate their confidence intervals, you would expect about 95% of those intervals to contain the true population mean"
   ]
  },
  {
   "cell_type": "markdown",
   "id": "df917801-1ba4-481d-9d32-4ea71fd75981",
   "metadata": {},
   "source": [
    "# 8. What is the margin of error in a confidence interval? How does sample size affect the margin of error? Provide an example of a scenario where a larger sample size would result in a smaller margin of error."
   ]
  },
  {
   "cell_type": "markdown",
   "id": "fda9fcc0-ec2f-4414-9e5e-505b9739557a",
   "metadata": {},
   "source": [
    "- The margin of error in a confidence interval is a measure of how much uncertainty or variability there is in estimating a population parameter (like the mean) from a sample. It represents the range around the sample statistic (e.g., mean) within which we are reasonably confident the true population parameter lies.\n",
    "\n",
    "- Sample Size Effect: Larger sample sizes result in smaller margins of error. When you have a larger sample, you have more information about the population, which leads to a more precise estimate.\n",
    "\n",
    "- Example Scenario: Suppose you want to estimate the average height of all students in a school. You take two different sample sizes: one with 20 students and another with 100 students.\n",
    "\n",
    "- Here , in this example,  the margin of error for the sample of 100 students is smaller than the margin of error for the sample of 20 students. \n",
    "- This means that with the larger sample, you have a more precise estimate of the average height, and you can be more confident that the true population average falls within a narrower range around your sample mean."
   ]
  },
  {
   "cell_type": "markdown",
   "id": "639c78ce-8691-49d1-b903-6b1416eedee0",
   "metadata": {},
   "source": [
    "# 9. Calculate the z-score for a data point with a value of 75, a population mean of 70, and a population standard deviation of 5. Interpret the results."
   ]
  },
  {
   "cell_type": "code",
   "execution_count": 5,
   "id": "738b0a12-bda1-4e5b-aaf9-7122cf0c0b7e",
   "metadata": {},
   "outputs": [
    {
     "name": "stdout",
     "output_type": "stream",
     "text": [
      "Z-Score: 1.0\n"
     ]
    }
   ],
   "source": [
    "# given \t\n",
    "data_point = 75\n",
    "population_mean = 70\n",
    "population_stddev = 5\n",
    "\n",
    "# Calculating the z-score\n",
    "z_score = (data_point - population_mean) / population_stddev\n",
    "\n",
    "print(\"Z-Score:\", z_score)"
   ]
  },
  {
   "cell_type": "markdown",
   "id": "2e2992d8-d4f5-451d-868e-dda4b57cb9c6",
   "metadata": {},
   "source": [
    "> - Interpretation : \n",
    "- The calculated z-score is \n",
    "\t(75-70)/5 = 1.0.\n",
    "- This means that the data point (75) is 1 standard deviation above the mean (70) in the population.\n",
    "- Z-scores help you understand how unusual or typical a data point is within the context of the population. \n",
    "- A z-score of 1 indicates that the data point is higher than the average by one standard deviation."
   ]
  },
  {
   "cell_type": "markdown",
   "id": "eb50de15-c08f-4215-a99f-3d5a4a808130",
   "metadata": {},
   "source": [
    "# 10. In a study of the effectiveness of a new weight loss drug, a sample of 50 participants lost an average of 6 pounds with a standard deviation of 2.5 pounds. Conduct a hypothesis test to determine if the drug is significantly effective at a 95% confidence level using a t-test.\n"
   ]
  },
  {
   "cell_type": "code",
   "execution_count": 1,
   "id": "cbca0e20-a54c-462b-a264-920178592818",
   "metadata": {},
   "outputs": [
    {
     "name": "stdout",
     "output_type": "stream",
     "text": [
      "Reject the null hypothesis. The drug is significantly effective.\n"
     ]
    },
    {
     "name": "stderr",
     "output_type": "stream",
     "text": [
      "/tmp/ipykernel_111/208981472.py:11: RuntimeWarning: Precision loss occurred in moment calculation due to catastrophic cancellation. This occurs when the data are nearly identical. Results may be unreliable.\n",
      "  t_statistic, p_value = stats.ttest_1samp([6] * sample_size, 0)\n"
     ]
    }
   ],
   "source": [
    "import scipy.stats as stats\n",
    "\n",
    "# Given data\n",
    "sample_mean = 6  # average weight loss\n",
    "sample_stddev = 2.5  # standard deviation\n",
    "sample_size = 50  # number of participants\n",
    "\n",
    "# Define the null hypothesis (H0): The drug is not significantly effective (mean weight loss is 0).\n",
    "\n",
    "# Perform the one-sample t-test\n",
    "t_statistic, p_value = stats.ttest_1samp([6] * sample_size, 0)\n",
    "\n",
    "# p_value is the probability of observing the data if the null hypothesis is true.\n",
    "\n",
    "# Set the confidence level (95% in this case)\n",
    "confidence_level = 0.95\n",
    "\n",
    "# Compare the p-value with the significance level (alpha)\n",
    "alpha = 1 - confidence_level\n",
    "\n",
    "if p_value < alpha:\n",
    "    print(\"Reject the null hypothesis. The drug is significantly effective.\")\n",
    "else:\n",
    "    print(\"Fail to reject the null hypothesis. The drug may not be significantly effective.\")\n"
   ]
  },
  {
   "cell_type": "markdown",
   "id": "939ecdac-c699-4bb4-b18c-02daada1ef0f",
   "metadata": {},
   "source": [
    "# 11. In a survey of 500 people, 65% reported being satisfied with their current job. Calculate the 95% confidence interval for the true proportion of people who are satisfied with their job."
   ]
  },
  {
   "cell_type": "code",
   "execution_count": 2,
   "id": "edd18f1b-29c0-419c-aaa4-f8a97eb8bff8",
   "metadata": {},
   "outputs": [
    {
     "name": "stdout",
     "output_type": "stream",
     "text": [
      "95% Confidence Interval: (0.6082, 0.6918)\n"
     ]
    }
   ],
   "source": [
    "import scipy.stats as stats\n",
    "\n",
    "# Given data\n",
    "sample_proportion = 0.65  # 65% as a decimal\n",
    "sample_size = 500\n",
    "\n",
    "# Set the confidence level (95% in this case)\n",
    "confidence_level = 0.95\n",
    "\n",
    "# Calculate the standard error\n",
    "standard_error = (sample_proportion * (1 - sample_proportion) / sample_size)**0.5\n",
    "\n",
    "# Calculate the margin of error\n",
    "margin_of_error = stats.norm.ppf(1 - (1 - confidence_level) / 2) * standard_error\n",
    "\n",
    "# Calculate the confidence interval\n",
    "lower_bound = sample_proportion - margin_of_error\n",
    "upper_bound = sample_proportion + margin_of_error\n",
    "\n",
    "print(f\"95% Confidence Interval: ({lower_bound:.4f}, {upper_bound:.4f})\")\n"
   ]
  },
  {
   "cell_type": "markdown",
   "id": "221663af-b7e0-40cf-ad5d-14860ad5c56f",
   "metadata": {},
   "source": [
    "# 12. A researcher is testing the effectiveness of two different teaching methods on student performance. Sample A has a mean score of 85 with a standard deviation of 6, while sample B has a mean score of 82 with a standard deviation of 5. Conduct a hypothesis test to determine if the two teaching methods have a significant difference in student performance using a t-test with a significance level of 0.01."
   ]
  },
  {
   "cell_type": "code",
   "execution_count": 3,
   "id": "27464c41-e87e-4b73-a0d7-663a772368e2",
   "metadata": {},
   "outputs": [
    {
     "name": "stdout",
     "output_type": "stream",
     "text": [
      "Fail to reject the null hypothesis. There is no significant difference in student performance between the two teaching methods.\n"
     ]
    }
   ],
   "source": [
    "import scipy.stats as stats\n",
    "\n",
    "# Given data for Sample A\n",
    "mean_A = 85\n",
    "stddev_A = 6\n",
    "sample_size_A = 30  # Adjust this to the actual sample size\n",
    "\n",
    "# Given data for Sample B\n",
    "mean_B = 82\n",
    "stddev_B = 5\n",
    "sample_size_B = 30  # Adjust this to the actual sample size\n",
    "\n",
    "# Set the significance level (0.01 in this case)\n",
    "significance_level = 0.01\n",
    "\n",
    "# Perform the two-sample t-test\n",
    "t_statistic, p_value = stats.ttest_ind_from_stats(mean_A, stddev_A, sample_size_A, mean_B, stddev_B, sample_size_B)\n",
    "\n",
    "# Compare the p-value with the significance level\n",
    "if p_value < significance_level:\n",
    "    print(\"Reject the null hypothesis. There is a significant difference in student performance between the two teaching methods.\")\n",
    "else:\n",
    "    print(\"Fail to reject the null hypothesis. There is no significant difference in student performance between the two teaching methods.\")\n"
   ]
  },
  {
   "cell_type": "markdown",
   "id": "597f83ae-7473-4e3d-a42b-323957be9f5c",
   "metadata": {},
   "source": [
    "# 13. A population has a mean of 60 and a standard deviation of 8. A sample of 50 observations has a mean of 65. Calculate the 90% confidence interval for the true population mean."
   ]
  },
  {
   "cell_type": "code",
   "execution_count": 4,
   "id": "84d069b4-8f59-4e3f-9543-5b684bb5952a",
   "metadata": {},
   "outputs": [
    {
     "name": "stdout",
     "output_type": "stream",
     "text": [
      "90% Confidence Interval: (63.1391, 66.8609)\n"
     ]
    }
   ],
   "source": [
    "import scipy.stats as stats\n",
    "\n",
    "# Given data\n",
    "sample_mean = 65  # sample mean\n",
    "sample_size = 50\n",
    "population_mean = 60  # population mean\n",
    "population_stddev = 8  # population standard deviation\n",
    "\n",
    "# Set the confidence level (90% in this case)\n",
    "confidence_level = 0.90\n",
    "\n",
    "# Calculate the standard error\n",
    "standard_error = population_stddev / (sample_size**0.5)\n",
    "\n",
    "# Calculate the margin of error\n",
    "margin_of_error = stats.norm.ppf(1 - (1 - confidence_level) / 2) * standard_error\n",
    "\n",
    "# Calculate the confidence interval\n",
    "lower_bound = sample_mean - margin_of_error\n",
    "upper_bound = sample_mean + margin_of_error\n",
    "\n",
    "print(f\"90% Confidence Interval: ({lower_bound:.4f}, {upper_bound:.4f})\")\n"
   ]
  },
  {
   "cell_type": "markdown",
   "id": "cf3d32c5-3563-4be6-9688-d1c423bb4092",
   "metadata": {},
   "source": [
    "# 14. In a study of the effects of caffeine on reaction time, a sample of 30 participants had an average reaction time of 0.25 seconds with a standard deviation of 0.05 seconds. Conduct a hypothesis test to determine if the caffeine has a significant effect on reaction time at a 90% confidence level using a t-test."
   ]
  },
  {
   "cell_type": "markdown",
   "id": "33e641f4-11b3-4e98-9b35-a5306d92c129",
   "metadata": {},
   "source": [
    "> To determine if caffeine has a significant effect on reaction time, you can perform a one-sample t-test. \n",
    "- In this case, you have a sample of 30 participants with their average reaction time, standard deviation, and a null hypothesis (H0) that there is no significant effect of caffeine. \n",
    "- The alternative hypothesis (H1) is that there is a significant effect. We'll conduct the t-test at a 90% confidence level.\n"
   ]
  },
  {
   "cell_type": "code",
   "execution_count": 6,
   "id": "dd58a556-08b7-4028-b7fd-f9124a9f6ba8",
   "metadata": {},
   "outputs": [
    {
     "name": "stdout",
     "output_type": "stream",
     "text": [
      "Reject the null hypothesis. Caffeine has a significant effect on reaction time.\n"
     ]
    }
   ],
   "source": [
    "import scipy.stats as stats\n",
    "\n",
    "# Given data\n",
    "sample_mean = 0.25  # average reaction time\n",
    "sample_stddev = 0.05  # standard deviation\n",
    "sample_size = 30  # number of participants\n",
    "\n",
    "# Define the null hypothesis (H0): Caffeine has no significant effect (mean reaction time is 0).\n",
    "# Alternative hypothesis (H1): Caffeine has a significant effect (mean reaction time is not 0).\n",
    "\n",
    "# Set the confidence level (90% in this case)\n",
    "confidence_level = 0.90\n",
    "\n",
    "# Calculate the degrees of freedom\n",
    "degrees_of_freedom = sample_size - 1\n",
    "\n",
    "# Calculate the t-statistic\n",
    "t_statistic = (sample_mean - 0) / (sample_stddev / (sample_size**0.5))\n",
    "\n",
    "# Calculate the critical t-value (two-tailed test)\n",
    "alpha = 1 - confidence_level\n",
    "critical_t_value = stats.t.ppf(1 - alpha/2, degrees_of_freedom)\n",
    "\n",
    "# Compare the t-statistic with the critical t-value\n",
    "if abs(t_statistic) > critical_t_value:\n",
    "    print(\"Reject the null hypothesis. Caffeine has a significant effect on reaction time.\")\n",
    "else:\n",
    "    print(\"Fail to reject the null hypothesis. There is no significant effect of caffeine on reaction time.\")\n"
   ]
  }
 ],
 "metadata": {
  "kernelspec": {
   "display_name": "Python 3 (ipykernel)",
   "language": "python",
   "name": "python3"
  },
  "language_info": {
   "codemirror_mode": {
    "name": "ipython",
    "version": 3
   },
   "file_extension": ".py",
   "mimetype": "text/x-python",
   "name": "python",
   "nbconvert_exporter": "python",
   "pygments_lexer": "ipython3",
   "version": "3.10.8"
  }
 },
 "nbformat": 4,
 "nbformat_minor": 5
}
