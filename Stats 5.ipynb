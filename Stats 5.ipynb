{
 "cells": [
  {
   "cell_type": "raw",
   "id": "90382b84-8da5-4a0b-90ed-663e4a5f1642",
   "metadata": {},
   "source": [
    "Q1: What is Estimation Statistics? Explain point estimate and interval estimate.\n",
    "Q2. Write a Python function to estimate the population mean using a sample mean and standard\n",
    "deviation.\n",
    "Q3: What is Hypothesis testing? Why is it used? State the importance of Hypothesis testing.\n",
    "Q4. Create a hypothesis that states whether the average weight of male college students is greater than\n",
    "the average weight of female college students.\n",
    "Q5. Write a Python script to conduct a hypothesis test on the difference between two population means,\n",
    "given a sample from each population.\n",
    "Q6: What is a null and alternative hypothesis? Give some examples.\n",
    "Q7: Write down the steps involved in hypothesis testing.\n",
    "Q8. Define p-value and explain its significance in hypothesis testing.\n",
    "Q9. Generate a Student's t-distribution plot using Python's matplotlib library, with the degrees of freedom\n",
    "parameter set to 10.\n",
    "Q10. Write a Python program to calculate the two-sample t-test for independent samples, given two\n",
    "random samples of equal size and a null hypothesis that the population means are equal.\n",
    "Q11: What is Student’s t distribution? When to use the t-Distribution.\n",
    "Q12: What is t-statistic? State the formula for t-statistic.\n",
    "Q13. A coffee shop owner wants to estimate the average daily revenue for their shop. They take a random\n",
    "sample of 50 days and find the sample mean revenue to be $500 with a standard deviation of $50.\n",
    "Estimate the population mean revenue with a 95% confidence interval.\n",
    "Q14. A researcher hypothesizes that a new drug will decrease blood pressure by 10 mmHg. They conduct a\n",
    "clinical trial with 100 patients and find that the sample mean decrease in blood pressure is 8 mmHg with a\n",
    "standard deviation of 3 mmHg. Test the hypothesis with a significance level of 0.05.\n",
    "Q15. An electronics company produces a certain type of product with a mean weight of 5 pounds and a\n",
    "standard deviation of 0.5 pounds. A random sample of 25 products is taken, and the sample mean weight\n",
    "is found to be 4.8 pounds. Test the hypothesis that the true mean weight of the products is less than 5\n",
    "pounds with a significance level of 0.01.\n",
    "Q16. Two groups of students are given different study materials to prepare for a test. The first group (n1 =\n",
    "30) has a mean score of 80 with a standard deviation of 10, and the second group (n2 = 40) has a mean\n",
    "score of 75 with a standard deviation of 8. Test the hypothesis that the population means for the two\n",
    "groups are equal with a significance level of 0.01.\n",
    "Q17. A marketing company wants to estimate the average number of ads watched by viewers during a TV\n",
    "program. They take a random sample of 50 viewers and find that the sample mean is 4 with a standard\n",
    "deviation of 1.5. Estimate the population mean with a 99% confidence interval."
   ]
  },
  {
   "cell_type": "markdown",
   "id": "0813603d-9bac-4b8d-a972-5cb8e2eea9e7",
   "metadata": {},
   "source": [
    "1. What is Estimation Statistics? Explain point estimate and interval estimate."
   ]
  },
  {
   "cell_type": "markdown",
   "id": "b1e2e170-0c65-45bc-9d24-3a71e9dfbaa7",
   "metadata": {},
   "source": [
    "# Estimation Statistics : \n",
    "- Estimation statistics is like trying to guess something about a big group based on information from a smaller part of that group. \n",
    "- For eg : Imagine you're at a party with lots of people, and you want to know how tall everyone is, but you can't measure every single person , right ?  So, you pick a few people, measure their heights, and then use that information to make an educated guess about how tall the whole group might be.\n",
    "\n",
    "> There are two main ways to make these educated guesses: Point estimate and Interval estimate.\n",
    "> - Point Estimate :-  This is like giving a single best guess. As we measured a few people at the party , and found that their average height is 5 feet 9 inches. So, the \"point estimate\" would be that the average height of everyone at the party is around 5 feet 9 inches. It's like saying, \"I think most people here are about this tall.\"\n",
    "> - Interval Estimate :- This is like giving a range of possible values instead of just one guess. Going back to the party example, instead of saying the average height is exactly 5 feet 9 inches, we say, \"I'm pretty sure the average height is somewhere between 5 feet 7 inches and 6 feet 1 inch.\" This way, we are acknowledging that there's a bit of uncertainty in your guess."
   ]
  },
  {
   "cell_type": "markdown",
   "id": "09f0c9a3-ff1a-488e-921e-1cc21b9bd9d8",
   "metadata": {},
   "source": [
    "2. Write a Python function to estimate the population mean using a sample mean and standard deviation."
   ]
  },
  {
   "cell_type": "code",
   "execution_count": 6,
   "id": "ddba90bd-fc30-44dd-8e25-4f5602fbdc98",
   "metadata": {},
   "outputs": [
    {
     "name": "stdout",
     "output_type": "stream",
     "text": [
      "The estimated population mean is :  23.664319132398465\n"
     ]
    }
   ],
   "source": [
    "def estimate_pop_mean(sam_mean, sam_std_dev, sam_size):\n",
    "    estimate_pop_mean = sam_mean * (sam_size ** 0.5) / sam_std_dev \n",
    "    return estimate_pop_mean  \n",
    "\n",
    "print(\"The estimated population mean is : \", estimate_pop_mean(60,15,35))"
   ]
  },
  {
   "cell_type": "markdown",
   "id": "fed751e2-e233-4b21-a65d-71462c4c8ecd",
   "metadata": {},
   "source": [
    "# 3. What is Hypothesis testing? Why is it used? State the importance of Hypothesis testing."
   ]
  },
  {
   "cell_type": "markdown",
   "id": "b4e09937-9380-47d7-a6c5-ed37bb5e4c3d",
   "metadata": {},
   "source": [
    "- Hypothesis testing is like playing detective with data. \n",
    "- For eg, we have a new medication , and we have to find is it effective to increase IQ or not ? here's where we use hypothesis testing. \n",
    "- Hypothesis testing is a method to check if our beliefs about something are true, using data. \n",
    "- It's used to make sure we're not just guessing and to help us make informed decisions based on evidence. \n",
    "\n",
    "> - Here's how it works:\n",
    "\n",
    "- 1. Hypothesis: You start with two ideas: a null hypothesis (H0) and an alternative hypothesis (H1). The null says \"nothing interesting is happening,\" while the alternative suggests something is different or special.\n",
    "- 2. Data Collection: You gather data and analyze it to figure out if it supports the null hypothesis or the alternative.\n",
    "- 3. Testing: You use math (Statistical Analysis ) to see if your data aligns more with the null or the alternative. It's like weighing evidence.\n",
    "- 4. Conclusion: If your data is really different from what the null hypothesis suggests, you might reject the null and accept the alternative. If not, you stick with the null.\n",
    "\n",
    "> - Importance:\n",
    "- Hypothesis testing is super important because it helps us make informed decisions based on evidence.\n",
    "- It's like making sure we're not just guessing when we say something is true. \n",
    "- It's used in science, medicine, business, and many other fields to figure out if our ideas are solid or just wishful thinking.\n",
    "> To put it all, it's like a truth-checker that helps us know if we're on the right track or need to rethink things."
   ]
  },
  {
   "cell_type": "markdown",
   "id": "73023f6f-4e3d-4054-80a3-905582cec2ce",
   "metadata": {},
   "source": [
    "# 4. Create a hypothesis that states whether the average weight of male college students is greater than the average weight of female college students."
   ]
  },
  {
   "cell_type": "markdown",
   "id": "b8f96635-f07f-4d8b-ac4a-02fbb4871db7",
   "metadata": {},
   "source": [
    "- Null Hypothesis (H0) : Average weight of male college students <= average weight of female college students.\n",
    "- Alternate Hypothesis (H1) :  Average weight of male college students > average height of female college students. \n",
    "> Note : The null hypothesis assumes no significant difference, while the alternative hypothesis suggests the specific difference you're trying to find evidence for. "
   ]
  },
  {
   "cell_type": "markdown",
   "id": "17f997b7-05ec-4ae6-bb1e-6b72647c62b1",
   "metadata": {},
   "source": [
    "# 5. Write a Python script to conduct a hypothesis test on the difference between two population means, given a sample from each population."
   ]
  },
  {
   "cell_type": "code",
   "execution_count": 7,
   "id": "55830798-fe2c-4c7b-94a6-4eb18cf4eb59",
   "metadata": {},
   "outputs": [],
   "source": [
    "import numpy as np\n",
    "from scipy import stats"
   ]
  },
  {
   "cell_type": "code",
   "execution_count": 8,
   "id": "99079ba8-cb38-467e-b3f7-52751f6e5526",
   "metadata": {},
   "outputs": [
    {
     "name": "stdout",
     "output_type": "stream",
     "text": [
      "group_A Mean: 29.2\n",
      "group_B Mean: 10.2\n",
      "T-Statistic: 2.4492183762789628\n",
      "P-Value: 0.049933619214205666\n",
      "Result: Reject the null hypothesis\n"
     ]
    }
   ],
   "source": [
    "# Sample data from 2 population\n",
    "group_A = np.array([32, 33 , 34, 44, 3])\n",
    "group_B = np.array([4,8,20,17,2])\n",
    " \n",
    "# Calculating sample mean and sample std dev \n",
    "mean1 = np.mean(group_A)\n",
    "std_dev1 = np.std(group_A, ddof=1)\n",
    "\n",
    "mean2 = np.mean(group_B)\n",
    "std_dev2 = np.std(group_B , ddof=1)\n",
    "\n",
    "# Performing 2 sample t-test , assuming unequal variances\n",
    "t_statistic, p_value = stats.ttest_ind(group_A, group_B , equal_var=False)\n",
    "\n",
    "# Define significance level (alpha)\n",
    "alpha = 0.05\n",
    "\n",
    "# Compare p-value to alpha to make a decision\n",
    "if p_value < alpha:\n",
    "    result = \"Reject the null hypothesis\"\n",
    "else:\n",
    "    result = \"Fail to reject the null hypothesis\"\n",
    "\n",
    "print(\"group_A Mean:\", mean1)\n",
    "print(\"group_B Mean:\", mean2)\n",
    "print(\"T-Statistic:\", t_statistic)\n",
    "print(\"P-Value:\", p_value)\n",
    "print(\"Result:\", result)\n"
   ]
  },
  {
   "cell_type": "markdown",
   "id": "a28b2015-9e80-4cc5-b706-3c85ef1e5526",
   "metadata": {},
   "source": [
    "# 6. What is a null and alternative hypothesis? Give some examples. "
   ]
  },
  {
   "cell_type": "markdown",
   "id": "05d5c24d-e032-457b-b7b8-93a3b195682f",
   "metadata": {},
   "source": [
    "- Null Hypothesis :  Null hypothesis is where we consider that there are no differences in our assumption. Where our assumption is true. There's no significant difference. \n",
    "> eg :  It will not rain today\n",
    "- Alternate Hypothesis : Alternate Hypothesis is where we consider that there's a difference in our assumption. This suggests the specific difference we are trying to find for. \n",
    "> eg :  It will either rain , be sunny or be cloudy today. "
   ]
  },
  {
   "cell_type": "markdown",
   "id": "61857ca9-0e28-4c16-9620-3543c78d7b87",
   "metadata": {},
   "source": [
    "# 7. Write down the steps involved in hypothesis testing ? "
   ]
  },
  {
   "cell_type": "markdown",
   "id": "650b0b9b-2b29-4823-a055-d211bc42559c",
   "metadata": {},
   "source": [
    "> The steps involved in hypothesis testing are : \n",
    "- i. Defining null hypothesis :  This is the starting point of the hypothesis testing , assuming there's no significant difference or effect. It's often represented as \"H0.\"\n",
    "- ii. Defining alternate hypothesis : This is what you're testing for, suggesting there is a specific difference or effect. It's often represented as \"H1\" or \"Ha.\"\n",
    "- iii. Decision boundary :  Also known as the significance level (alpha), it's a predetermined threshold that helps you decide whether to accept or reject the null hypothesis based on the calculated p-value.\n",
    "- iv. Statistical analysis : Using collected data, you perform statistical calculations (like t-tests or z-tests) to find a test statistic and calculate the p-value.\n",
    "- v. Conclusion : Based on the p-value and the decision boundary, you draw a conclusion. If the p-value is smaller than alpha, you might reject the null hypothesis. If not, you typically fail to reject it."
   ]
  },
  {
   "cell_type": "markdown",
   "id": "d7d9aeff-7270-4df6-b4ab-d7fd6f01a851",
   "metadata": {},
   "source": [
    "# 8. Define p-value and explain its significance in hypothesis testing."
   ]
  },
  {
   "cell_type": "markdown",
   "id": "361a9bd7-53e9-4c4d-96fa-6af35c096399",
   "metadata": {},
   "source": [
    "> - p-value : The p-value is a number that tells us how likely it is to get our observed results if the null hypothesis is true.\n",
    "The p-value is like a truth detector in hypothesis testing. It tells us how likely it is to see our results if the null hypothesis is true.\n",
    "\n",
    "- Significance : In hypothesis testing, a small p-value (typically less than 0.05) suggests that our observed results are not likely to happen just by chance under the null hypothesis. \n",
    "> - This makes us consider that there might be something meaningful happening, and we might lean towards rejecting the null hypothesis in favor of the alternative hypothesis. \n",
    "> - In simple terms, a small p-value means our data is giving us a good reason to question the initial assumption.\n",
    "> - A small p-value suggests that our data is quite different from what the null hypothesis expects. This pushes us to question the null hypothesis and consider the possibility of the alternative hypothesis being true. "
   ]
  },
  {
   "cell_type": "markdown",
   "id": "b31258a8-53b9-4103-9d1c-dc10db134340",
   "metadata": {},
   "source": [
    "# 9. Generate a Student's t-distribution plot using Python's matplotlib library, with the degrees of freedom parameter set to 10."
   ]
  },
  {
   "cell_type": "code",
   "execution_count": 9,
   "id": "839c80fc-3a8a-4c73-9309-6aef80bb66f8",
   "metadata": {},
   "outputs": [
    {
     "data": {
      "image/png": "[encoded data removed]",
      "text/plain": [
       "<Figure size 640x480 with 1 Axes>"
      ]
     },
     "metadata": {},
     "output_type": "display_data"
    }
   ],
   "source": [
    "import matplotlib.pyplot as plt \n",
    "import numpy as np \n",
    "from scipy.stats import t \n",
    "\n",
    "# degrees of freedom \n",
    "dof = 10 \n",
    "\n",
    "# generating x values \n",
    "x = np.linspace(-5,5,400)\n",
    "\n",
    "# calculating the corresponding y values using t distribution \n",
    "y = t.pdf(x , df = dof)\n",
    "\n",
    "# plotting \n",
    "plt.plot(x, y , label = f\" Degrees of freedom = {dof}\")\n",
    "plt.title(\" Students t- distribution \")\n",
    "plt.xlabel(\"X\")\n",
    "plt.ylabel(\"Probability Density \")\n",
    "plt.legend()\n",
    "plt.grid(True)\n",
    "plt.show()"
   ]
  },
  {
   "cell_type": "markdown",
   "id": "e0f40ade-843c-40dc-a659-d620bda95820",
   "metadata": {},
   "source": [
    "# 10. Write a Python program to calculate the two-sample t-test for independent samples, given two random samples of equal size and a null hypothesis that the population means are equal."
   ]
  },
  {
   "cell_type": "code",
   "execution_count": 10,
   "id": "ccd00194-626c-4902-bcb5-c42c8dce2194",
   "metadata": {},
   "outputs": [
    {
     "name": "stdout",
     "output_type": "stream",
     "text": [
      "Sample 1 mean : 49.44983368722972\n",
      "Sample 2 mean : 55.82255581028773\n",
      "T-Statistic :  -2.2789645413141506\n",
      "p-value : 0.026367356045646387\n",
      "Result :  we reject null hypothesis \n"
     ]
    }
   ],
   "source": [
    "from scipy import stats\n",
    "\n",
    "# generate two random samples with equal sizes \n",
    "sample_size = 30 \n",
    "sample1 = np.random.normal(loc = 50, scale = 10 , size = sample_size)\n",
    "sample2 = np.random.normal(loc = 55 , scale = 12, size = sample_size)\n",
    "\n",
    "# performing 2 sample t-test assuming equal variances \n",
    "t_statistic , p_value = stats.ttest_ind(sample1, sample2 , equal_var= True )\n",
    "\n",
    "# Define Significance level (alpha) \n",
    "aplha  = 0.05 \n",
    "\n",
    "# compare p-value  to alpha to make a decison . \n",
    "if p_value  < alpha : \n",
    "    result = \" we reject null hypothesis \" \n",
    "else : \n",
    "    result = \" We fail to reject null hypothesis \" \n",
    "    \n",
    "print(f\"Sample 1 mean : {np.mean(sample1)}\")\n",
    "print(f\"Sample 2 mean : {np.mean(sample2)}\")\n",
    "print(\"T-Statistic : \", t_statistic)\n",
    "print(\"p-value :\", p_value)\n",
    "print(\"Result :\", result)"
   ]
  },
  {
   "cell_type": "markdown",
   "id": "38e98f30-24e1-4a21-9136-869573379b72",
   "metadata": {},
   "source": [
    "# 11.  What is Student’s t distribution? When to use the t-Distribution.  "
   ]
  },
  {
   "cell_type": "markdown",
   "id": "7952e4f5-e630-476d-8e83-a356723b98dc",
   "metadata": {},
   "source": [
    "> - The Student’s t distribution is a mathematical tool used in statistics.\n",
    "- It's like a way to adjust for uncertainty when working with small samples of data. \n",
    "- It looks like a curve that helps us understand how data tends to behave when we're dealing with limited information.\n",
    "- > For eg : lets say, you're trying to understand the average height of people in a town, but you only have a small group of them. Here, the Student's t- distribution is like a special tool that helps you make better guesses about the whole town's average height, even when you have a small group.\n",
    "- > We use the t-distribution when the sample size is small, which means we don't have a lot of data points. \n",
    "- It helps us make more accurate estimates and decisions when working with small groups. \n",
    "- The t-distribution helps you figure out (in the above eg) a range where the real average height is likely to be, even if you only measured a handful of people.\n",
    "\n",
    "- In short, the t-distribution is your friend when your data is limited, helping you get a better handle on uncertainty.\n",
    "\n",
    "- We use the t-distribution when we're dealing with small groups of data. \n",
    "- It's like a helper when your data isn't huge.\n",
    "- For example, if you're comparing two groups, like test scores of two classes, and your groups are small, the t-distribution helps you see if the differences you find are real or just by chance.\n",
    "\n",
    "> Therefore, in simple words, the t-distribution is your go-to when you don't have a lot of data and you want to make sure you're not getting fooled by small sample sizes."
   ]
  },
  {
   "cell_type": "markdown",
   "id": "d1410bbc-64c1-44ac-b57d-b885a017028e",
   "metadata": {},
   "source": [
    "# 12. What is t-statistic? State the formula for t-statistic."
   ]
  },
  {
   "cell_type": "markdown",
   "id": "e4e58094-f2c8-43b1-95c8-5fdff0858098",
   "metadata": {},
   "source": [
    "> The t-statistic is like a special number that helps us figure out if the difference between two groups is meaningful or just due to chance.\n",
    "- It's like comparing the size of the difference between groups to how much each group varies on its own.\n",
    "- The t-statistic is a tool that helps us check if the difference between two groups is real or just random luck. It's like a smart way to see if something we found is actually important or just a coincidence."
   ]
  },
  {
   "cell_type": "markdown",
   "id": "2b1abc83-41d9-4dde-8fa8-7e42cd7fa70a",
   "metadata": {},
   "source": [
    "# 13. A coffee shop owner wants to estimate the average daily revenue for their shop. They take a random sample of 50 days and find the sample mean revenue to be 500d dollars with a standard deviation of $50. Estimate the population mean revenue with a 95% confidence interval."
   ]
  },
  {
   "cell_type": "code",
   "execution_count": 2,
   "id": "29de1744-d9a0-47d7-855d-c02085e50a04",
   "metadata": {},
   "outputs": [
    {
     "name": "stdout",
     "output_type": "stream",
     "text": [
      " 95% Confidence interval : $486.1409617565032 to $513.8590382434968\n"
     ]
    }
   ],
   "source": [
    "from scipy import stats \n",
    "\n",
    "# Given data \n",
    "n = 50  \n",
    "sample_mean = 500 \n",
    "sample_stddev = 50 \n",
    "ci = 0.95 # confidence interval \n",
    "alpha = 0.05 \n",
    "\n",
    "# calculating z-score (critical value for the confidence interval) \n",
    "critical_value  = stats.norm.ppf((1 + ci)/2)\n",
    "\n",
    "# calculating margin of error \n",
    "margin_of_error = critical_value * (sample_stddev / (n ** 0.5) )\n",
    "\n",
    "# calculating confidence interval \n",
    "lower_bound = sample_mean - margin_of_error\n",
    "upper_bound = sample_mean + margin_of_error\n",
    "\n",
    "print(f\" 95% Confidence interval : ${lower_bound} to ${upper_bound}\")"
   ]
  },
  {
   "cell_type": "markdown",
   "id": "d44c273b-a5a0-4900-a7b4-87fb45ac56c2",
   "metadata": {},
   "source": [
    "# 14. A researcher hypothesizes that a new drug will decrease blood pressure by 10 mmHg. They conduct a clinical trial with 100 patients and find that the sample mean decrease in blood pressure is 8 mmHg with a standard deviation of 3 mmHg. Test the hypothesis with a significance level of 0.05."
   ]
  },
  {
   "cell_type": "markdown",
   "id": "fb9289ca-9f34-4470-a2af-c229269433fe",
   "metadata": {},
   "source": [
    "- Null hypothesis :  The new drug will decrease blood pressure by 10 mmhg \n",
    "-  Alternate Hypothesis :  The new drug will not decrease blood pressure by 10 mmhg"
   ]
  },
  {
   "cell_type": "code",
   "execution_count": 6,
   "id": "9d0432c0-7c68-44da-a98d-cbe67621ee1d",
   "metadata": {},
   "outputs": [
    {
     "name": "stdout",
     "output_type": "stream",
     "text": [
      "T-Statistic: -6.666666666666667\n",
      "Critical T-Value: 1.6603911559963895\n",
      "Result:  We fail to accept null hypothesis , hence the new drug will not decrease blood pressure by 10 mmhg\n"
     ]
    }
   ],
   "source": [
    "from scipy import stats \n",
    "\n",
    "sample_mean = 8 \n",
    "pop_mean = 10 #(Null hypothesis)\n",
    "sample_stddev = 3 \n",
    "n = 100 \n",
    "alpha = 0.05\n",
    "\n",
    "# Calculating t-statistic \n",
    "t_statistic = (sample_mean - pop_mean)/(sample_stddev / (n ** 0.5))\n",
    "\n",
    "## Finding critical t-value \n",
    "df = n-1\n",
    "critical_t_value = stats.t.ppf(1 - alpha , df)\n",
    "\n",
    "# Compareb t-statistic with the critical t- value \n",
    "if t_statistic < critical_t_value or t_statistic > critical_t_value : \n",
    "    result = \" We fail to accept null hypothesis , hence the new drug will not decrease blood pressure by 10 mmhg\"\n",
    "else : \n",
    "    result = \"We accept null hypothesis , hence the new drug will decrease blood pressure by 10 mmhg \"\n",
    "\n",
    "print(\"T-Statistic:\", t_statistic)\n",
    "print(\"Critical T-Value:\", critical_t_value)\n",
    "print(\"Result:\", result)"
   ]
  },
  {
   "cell_type": "markdown",
   "id": "2c95fb33-d9a4-48f6-b6cc-ece21db61c73",
   "metadata": {},
   "source": [
    "# 15. An electronics company produces a certain type of product with a mean weight of 5 pounds and a standard deviation of 0.5 pounds. A random sample of 25 products is taken, and the sample mean weight is found to be 4.8 pounds. Test the hypothesis that the true mean weight of the products is less than 5 pounds with a significance level of 0.01."
   ]
  },
  {
   "cell_type": "markdown",
   "id": "8c24ba29-d81f-4255-9499-0112d68cbc33",
   "metadata": {},
   "source": [
    "- Null hypothesis : The true mean weight of the products is less than 5 pounds \n",
    "- Alternate hypothesi : The true mean weight of the products is greater than or equal to 5 pounds "
   ]
  },
  {
   "cell_type": "code",
   "execution_count": 9,
   "id": "874acf6c-4434-4912-8278-a64ffbc91978",
   "metadata": {},
   "outputs": [
    {
     "name": "stdout",
     "output_type": "stream",
     "text": [
      "Z-Score: -2.0000000000000018\n",
      "Critical Z-Value: 2.3263478740408408\n",
      "Result:  We accept null hypothesis , hence the true mean weight of the products is less than 5 pounds\n"
     ]
    }
   ],
   "source": [
    "from scipy import stats \n",
    " \n",
    "# given \n",
    "pop_mean = 5 \n",
    "pop_stddev = 0.5\n",
    "n = 25 \n",
    "sample_mean = 4.8\n",
    "alpha = 0.01 # significance level \n",
    "\n",
    "# calculating z-score \n",
    "z_score = (sample_mean - pop_mean) / (pop_stddev / (n ** 0.5))\n",
    "\n",
    "# Finding critical Z-value\n",
    "critical_z_value = stats.norm.ppf(1 - alpha)\n",
    "\n",
    "# Compare Z-score with critical Z-value\n",
    "if z_score > critical_z_value:\n",
    "    result = \"We fail to accept null hypothesis , hence the true mean weight of the products is greater than or equal to 5 pounds \"\n",
    "else:\n",
    "    result = \" We accept null hypothesis , hence the true mean weight of the products is less than 5 pounds\"\n",
    "\n",
    "print(\"Z-Score:\", z_score)\n",
    "print(\"Critical Z-Value:\", critical_z_value)\n",
    "print(\"Result:\", result)"
   ]
  },
  {
   "cell_type": "markdown",
   "id": "0a5c3489-26c5-4f38-97c6-be575cf5ce72",
   "metadata": {},
   "source": [
    "# 16. Two groups of students are given different study materials to prepare for a test. The first group (n1 = 30) has a mean score of 80 with a standard deviation of 10, and the second group (n2 = 40) has a mean score of 75 with a standard deviation of 8. Test the hypothesis that the population means for the two groups are equal with a significance level of 0.01."
   ]
  },
  {
   "cell_type": "markdown",
   "id": "f0ba3dfa-cb91-434e-9cd8-9d9bbff7467d",
   "metadata": {},
   "source": [
    "- Null hypothesis : The population means for the two groups are equal \n",
    "- Alternate Hypothesi : The population means for the two groups are not equal "
   ]
  },
  {
   "cell_type": "code",
   "execution_count": 12,
   "id": "6969b4f8-6461-4fef-bb3e-8fd4ed043f79",
   "metadata": {},
   "outputs": [
    {
     "name": "stdout",
     "output_type": "stream",
     "text": [
      "T-Statistic: 2.323967729699292\n",
      "P-Value: 0.02312301341372599\n",
      "Result:  We accept null hypothesis , hence the population means for the two groups are equal\n"
     ]
    }
   ],
   "source": [
    "from scipy import stats \n",
    "\n",
    "# given \n",
    "n1 = 30\n",
    "mean1 = 80\n",
    "std_dev1 = 10\n",
    "\n",
    "n2 = 40\n",
    "mean2 = 75\n",
    "std_dev2 = 8\n",
    "\n",
    "alpha = 0.01\n",
    "\n",
    "# using two-tailed t-test \n",
    "\n",
    "# Performing two-sample t-test\n",
    "t_statistic, p_value = stats.ttest_ind_from_stats(mean1, std_dev1, n1, mean2, std_dev2, n2)\n",
    "'''T-test for means of two independent samples from descriptive statistics.\n",
    "\n",
    "This is a test for the null hypothesis that two independent\n",
    "samples have identical average (expected) values.'''\n",
    "\n",
    "\n",
    "# Comparing p-value to alpha\n",
    "if p_value < alpha:\n",
    "    result = \"We fail to accept null hypothesis , hence the population means for the two groups are not equal\"\n",
    "else:\n",
    "    result = \" We accept null hypothesis , hence the population means for the two groups are equal\"\n",
    "\n",
    "print(\"T-Statistic:\", t_statistic)\n",
    "print(\"P-Value:\", p_value)\n",
    "print(\"Result:\", result)\n"
   ]
  },
  {
   "cell_type": "markdown",
   "id": "2aee8fb5-80e1-4412-912b-3a7135593761",
   "metadata": {},
   "source": [
    "# 17. A marketing company wants to estimate the average number of ads watched by viewers during a TV program. They take a random sample of 50 viewers and find that the sample mean is 4 with a standard deviation of 1.5. Estimate the population mean with a 99% confidence interval."
   ]
  },
  {
   "cell_type": "markdown",
   "id": "5d3b0b3d-f76a-42be-8e28-f3d2ef3781e4",
   "metadata": {},
   "source": [
    "- Null Hypothesi : Mean = 4 \n",
    "- Alternate hypothesis : Mean != 4"
   ]
  },
  {
   "cell_type": "code",
   "execution_count": 14,
   "id": "e91be919-b3d7-4483-9e33-a7869b353574",
   "metadata": {},
   "outputs": [
    {
     "name": "stdout",
     "output_type": "stream",
     "text": [
      " 99% Confidence Interval : 3.4535840896844654 \n"
     ]
    }
   ],
   "source": [
    "from scipy import stats \n",
    "\n",
    "# given \n",
    "n = 50 \n",
    "sample_mean  = 4\n",
    "sample_stddev = 1.5 \n",
    "cl = 0.99 # confidence level \n",
    "alpha = 0.01 \n",
    "\n",
    "# Calculating critical-z-value \n",
    "critical_z_value = stats.norm.ppf(1 - alpha/2 )\n",
    "\n",
    "# calculating margin of error\n",
    "margin_of_error = critical_z_value * (sample_stddev / (n ** 0.5))\n",
    "\n",
    "# calculating CI \n",
    "lower_bound = sample_mean - margin_of_error\n",
    "\n",
    "print(f\" 99% Confidence Interval : {lower_bound} \")"
   ]
  },
  {
   "cell_type": "code",
   "execution_count": null,
   "id": "86d65458-11a3-450b-8496-1104b639b043",
   "metadata": {},
   "outputs": [],
   "source": []
  }
 ],
 "metadata": {
  "kernelspec": {
   "display_name": "Python 3 (ipykernel)",
   "language": "python",
   "name": "python3"
  },
  "language_info": {
   "codemirror_mode": {
    "name": "ipython",
    "version": 3
   },
   "file_extension": ".py",
   "mimetype": "text/x-python",
   "name": "python",
   "nbconvert_exporter": "python",
   "pygments_lexer": "ipython3",
   "version": "3.10.8"
  }
 },
 "nbformat": 4,
 "nbformat_minor": 5
}
