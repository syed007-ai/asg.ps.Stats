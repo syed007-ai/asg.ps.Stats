{
 "cells": [
  {
   "cell_type": "raw",
   "id": "177b4d30-78ca-4754-aabd-3b906fdcd6f9",
   "metadata": {},
   "source": [
    "Q1. What is Statistics?\n",
    "Q2. Define the different types of statistics and give an example of when each type might be used.\n",
    "Q3. What are the different types of data and how do they differ from each other? Provide an example of\n",
    "each type of data.\n",
    "Q4. Categorise the following datasets with respect to quantitative and qualitative data types:\n",
    "(i) Grading in exam: A+, A, B+, B, C+, C, D, E\n",
    "(ii) Colour of mangoes: yellow, green, orange, red\n",
    "(iii) Height data of a class: [178.9, 179, 179.5, 176, 177.2, 178.3, 175.8,...]\n",
    "(iv) Number of mangoes exported by a farm: [500, 600, 478, 672, ...]\n",
    "Q5. Explain the concept of levels of measurement and give an example of a variable for each level.\n",
    "Q6. Why is it important to understand the level of measurement when analyzing data? Provide an\n",
    "example to illustrate your answer.\n",
    "Q7. How nominal data type is different from ordinal data type.\n",
    "Q8. Which type of plot can be used to display data in terms of range?\n",
    "Q9. Describe the difference between descriptive and inferential statistics. Give an example of each\n",
    "type of statistics and explain how they are used.\n",
    "Q10. What are some common measures of central tendency and variability used in statistics? Explain\n",
    "how each measure can be used to describe a dataset."
   ]
  },
  {
   "cell_type": "markdown",
   "id": "879282f7-173b-41b6-aa67-864b29563f95",
   "metadata": {},
   "source": [
    "# 1. What is Statistics?"
   ]
  },
  {
   "cell_type": "markdown",
   "id": "1379691f-d82e-44a4-affd-299085d47b46",
   "metadata": {},
   "source": [
    "* Statistics is the science of collecting, organizing, analyzing data.\n",
    "- eg : Heights of the students in a classroom {170cm, 160cm , 172cm, 175cm, ..}\n",
    "* In other words, Statistics can also be defined a branch of mathematics that helps us make sense of data. It's like a toolbox full of methods and techniques that allow us to collect, organize, analyze, and interpret information.\n"
   ]
  },
  {
   "cell_type": "markdown",
   "id": "f0532443-0a8b-4233-8ed3-9482333c52ab",
   "metadata": {},
   "source": [
    "# 2. Define the different types of statistics and give an example of when each type might be used."
   ]
  },
  {
   "cell_type": "markdown",
   "id": "6281d438-33c8-4251-9a53-4be2b29bf0f8",
   "metadata": {},
   "source": [
    "* Statistics can be classified into two types : Descriptive Statistics and Inferential Statistics.\n",
    "- Descriptive Statistics :- Descriptive Statistics deals with \"organizing\" and \"summarizing\" the data\n",
    "- Inferential Statistics :- Inferential Statistics is the type of Statistics which deals with \"forming the conclusions\", through the data we have measured. "
   ]
  },
  {
   "cell_type": "markdown",
   "id": "490f9640-35a3-4cb2-a381-6bf314fc9877",
   "metadata": {},
   "source": [
    "- > # Descriptive Statistics  :\n",
    "1. Measure of Central Tendency - (Mean, Median , Mode) -- this usually gives the descriptive information about the data . \n",
    "* These tell us about the \"average\" or \"typical\" value in a set of data. For example, the mean (average) salary of employees in a company can give us an idea of their typical earnings.\n",
    "2. Measure of dispersion - (Variance , Std dev) -- about the spreadness of the data.\n",
    "*  These indicate how spread out or diverse the data is. For instance, the range (the difference between the highest and lowest values) of test scores can show how much variation there is among students' performance.\n",
    "3. Different type of distribution of data -- (Histogram, pie chart etc) - \n",
    "* These visual representations, like bar graphs or pie charts, help us understand data quickly. They can be used to compare different categories or show the proportion of something."
   ]
  },
  {
   "cell_type": "markdown",
   "id": "509c5aef-6bc4-43ba-9fd8-01ae93b4f729",
   "metadata": {},
   "source": [
    "- > # Inferential Statistics  : \n",
    "- Getting conclusions from the Sample data about a specific Population dataset. \n",
    "- eg : \n",
    "* Hypothesis testing: Let's say you want to test a new medicine's effectiveness on a population. You can select a sample of individuals and give some of them the medicine while others receive a placebo. By analyzing the results, you can infer whether the medicine has a significant impact on the larger population.\n",
    "* Confidence intervals: Suppose you want to estimate the average height of all adults in a country. You can measure the heights of a sample of individuals and calculate a confidence interval, which gives you a range within which you're reasonably certain the true average height falls.\n"
   ]
  },
  {
   "cell_type": "markdown",
   "id": "eb3a71f9-289c-4f7f-8b98-89c6ec161084",
   "metadata": {},
   "source": [
    "* > In a nutshell, descriptive statistics summarize data, while inferential statistics help us draw broader conclusions about populations based on samples. Both types of statistics are valuable tools for understanding and making sense of information."
   ]
  },
  {
   "cell_type": "markdown",
   "id": "1a94faea-1c9e-4f15-af61-81e34d5bb492",
   "metadata": {},
   "source": [
    "# 3. What are the different types of data and how do they differ from each other? Provide an example of each type of data"
   ]
  },
  {
   "cell_type": "markdown",
   "id": "21f799f7-2015-43f4-9f43-255ca01d4685",
   "metadata": {},
   "source": [
    "- > # Data can be classified into two types : Quantitative Data and Qualitative Data \n",
    "> * -> Quantitaive Data : Quantitative Data is again classified into two types :\n",
    "* ->  they are : \"Discrete data\" and \"Continuous data\" \n",
    "> * -> Qualitative Data : Qualitative Data is again classified into two types : \n",
    "* -> they are : \"Nominal data\" and \"Ordinal data\""
   ]
  },
  {
   "cell_type": "markdown",
   "id": "c133daa4-3ab1-4ee7-a642-4a31a56544d3",
   "metadata": {},
   "source": [
    "> * Eg's of Quantitative data : (Numerical data)\n",
    "* -> no.of bank acc's of a person (3,4,5 etc) [Discrete Data]\n",
    "* -> no.of children in a family (2,3,4 etc) [Discrete Data]\n",
    "* -> Heights , weights, Temperature , Speed, Distance etc [Continuous Data] \n",
    "> * Eg's of Qualitative data : (Categorical data)\n",
    "* -> Gendeer, pincode, blood group ( no rank of categories) [Nominal Data]\n",
    "* -> Reviews , feedback (rank is assigned to the categories) [Ordinal Data]"
   ]
  },
  {
   "cell_type": "markdown",
   "id": "0dadc927-facc-42a7-b4c4-3e5a6f1bfef1",
   "metadata": {},
   "source": [
    "> * In summary, quantitative data deals with numbers and measurements, which can be discrete or continuous. \n",
    "> - Qualitative data, on the other hand, is descriptive and represents qualities or attributes, which can be nominal or ordinal. Understanding the type of data you have is essential for selecting appropriate analysis methods and drawing meaningful conclusions."
   ]
  },
  {
   "cell_type": "markdown",
   "id": "11f79942-b287-43c0-84c6-9e6d2756bd97",
   "metadata": {},
   "source": [
    "# Q4. Categorise the following datasets with respect to quantitative and qualitative data types:\n",
    "* (i) Grading in exam: A+, A, B+, B, C+, C, D, E\n",
    "* (ii) Colour of mangoes: yellow, green, orange, red\n",
    "* (iii) Height data of a class: [178.9, 179, 179.5, 176, 177.2, 178.3, 175.8,...]\n",
    "* (iv) Number of mangoes exported by a farm: [500, 600, 478, 672, ...]"
   ]
  },
  {
   "cell_type": "markdown",
   "id": "85c8e647-49b7-413b-a0f3-62b830ceddfe",
   "metadata": {},
   "source": [
    "> *  (i) Grading in exam: A+, A, B+, B, C+, C, D, E --> Quanlitative Data [Ordinal Data]\n",
    "> * (ii) Colour of mangoes: yellow, green, orange, red --> Qualitative Data [Ordinal Data]\n",
    "> * (iii) Height data of a class: [178.9, 179, 179.5, 176, 177.2, 178.3, 175.8,...] --> Quantitative Data [Continuous Data]\n",
    "> * (iv) Number of mangoes exported by a farm: [500, 600, 478, 672, ...] --> Quantitative Data [Discrete Data]"
   ]
  },
  {
   "cell_type": "markdown",
   "id": "5324a7a2-8c7c-421c-b099-a6893c08400b",
   "metadata": {},
   "source": [
    "# 5. Explain the concept of levels of measurement and give an example of a variable for each level."
   ]
  },
  {
   "cell_type": "markdown",
   "id": "33be9aaf-9a1b-40c4-b1a4-1ca663cf78d7",
   "metadata": {},
   "source": [
    "- > # Level of Measurement : (SCALE OF MEASUREMENT OF DATA)\n",
    "* 1. Nominal Scale Data \n",
    "* 2. Ordinal Scale Data\n",
    "* 3. Interval Scale Data\n",
    "* 4. Ratio Scale Data"
   ]
  },
  {
   "cell_type": "markdown",
   "id": "eb7bc624-2f8a-4f4f-a138-5b3573a6d2b8",
   "metadata": {},
   "source": [
    "* > Nominal Level: At the nominal level, data is categorized into distinct groups or categories. It represents qualitative information without any inherent order or ranking. For example:\n",
    "- Variable: Eye color (blue, brown, green).\n",
    "- Variable: Animal types (cat, dog, bird).\n",
    "* > Ordinal Level: The ordinal level allows for the categorization of data with an inherent order or ranking. The categories can be ranked or ordered, but the differences between them may not be equal. For example:\n",
    "- Variable: Education level (high school, bachelor's degree, master's degree).\n",
    "- Variable: Movie ratings (1 star, 2 stars, 3 stars, 4 stars, 5 stars).\n",
    "* > Interval Level: At the interval level, data is measured on a scale where the differences between values are consistent and measurable. However, there is no true zero point. For example:\n",
    "- Variable: Temperature in Celsius or Fahrenheit.\n",
    "- Variable: Years (e.g., 1990, 2000, 2010).\n",
    "* > Ratio Level: The ratio level is the highest level of measurement. It has all the characteristics of interval data, with the addition of a true zero point. This allows for meaningful ratios between values. For example:\n",
    "- Variable: Weight of objects (e.g., 5 kg, 10 kg, 15 kg).\n",
    "- Variable: Time in seconds or minutes.\n"
   ]
  },
  {
   "cell_type": "markdown",
   "id": "acaa8045-a8d7-41e4-98dc-2429650181e2",
   "metadata": {},
   "source": [
    "> > In summary, the levels of measurement classify data based on the nature and characteristics of the data. Nominal level deals with distinct categories, ordinal level introduces ranking, interval level measures with consistent differences, and ratio level includes a true zero point, allowing for meaningful ratios. Understanding the level of measurement is important for selecting appropriate statistical analyses and interpreting the data accurately."
   ]
  },
  {
   "cell_type": "markdown",
   "id": "6fecb3d6-8c4d-4560-9ccb-640471276c22",
   "metadata": {},
   "source": [
    "# 6. Why is it important to understand the level of measurement when analyzing data? Provide an example to illustrate your answer."
   ]
  },
  {
   "cell_type": "markdown",
   "id": "68c6fa87-57d2-4f8c-bc23-6fe135586d0e",
   "metadata": {},
   "source": [
    "* Understanding the level of measurement is crucial when analyzing data because it determines the types of statistical analyses and interpretations that can be applied. It helps us choose the appropriate tools and methods that are suitable for the data at hand. Let me provide a simple example to illustrate this:\n",
    "\n",
    "- Let's say we have collected data on the favorite colors of a group of people. We ask them to choose their preferred color from a list of options: red, blue, green, and yellow. Now, let's consider two scenarios:\n",
    "\n",
    "- > Scenario 1: Nominal Level\n",
    "- If we treat the data as nominal level data, we recognize that the responses represent distinct categories without any inherent order. \n",
    "- We can count the number of people who prefer each color and calculate the percentages. For example, we may find that 30% of people chose blue, 25% chose red, 20% chose green, and 25% chose yellow. \n",
    "- We can present this information using a bar chart to compare the frequencies of different colors.\n",
    "\n",
    "- > Scenario 2: Ordinal Level\n",
    "- If we treat the data as ordinal level data, we consider that there is an inherent order or ranking to the colors. \n",
    "- We can analyze the data to determine which color is the most preferred or the least preferred. \n",
    "- For example, we may find that blue is the most popular choice, followed by red, green, and yellow. \n",
    "- We can create an ordered bar chart or a stacked bar chart to represent the rankings\n",
    "\n",
    "> In this example, understanding the level of measurement helps us decide how to analyze the data appropriately. \n",
    "- If we mistakenly treat the data as ratio level (measurable with meaningful ratios), it would be incorrect to calculate averages or meaningful differences between the color preferences.\n",
    "\n",
    "> > By recognizing the level of measurement, we avoid making incorrect interpretations, select suitable statistical techniques, and ensure the validity and reliability of our analyses. \n",
    "- It allows us to make meaningful conclusions and draw accurate insights from the data."
   ]
  },
  {
   "cell_type": "markdown",
   "id": "9062d07b-26ba-48b2-bb6b-4b09dd413969",
   "metadata": {},
   "source": [
    "# 7. How nominal data type is different from ordinal data type."
   ]
  },
  {
   "cell_type": "markdown",
   "id": "014301a2-29d6-48f0-a521-09de77365c5e",
   "metadata": {},
   "source": [
    "> Nominal data and ordinal data are both types of qualitative data, but they differ in terms of the level of order or ranking they possess.\n",
    "\n",
    "- > > Nominal Data: Think of nominal data as categories without any inherent order.\n",
    "- It represents qualities or attributes that are grouped into different labels or names.\n",
    "- For example, think about the favorite ice cream flavors of a group of people. The flavors could be \"vanilla,\" \"chocolate,\" and \"strawberry.\" \n",
    "- There is no natural order or ranking among these flavors. \n",
    "- They are simply distinct categories.\n",
    "\n",
    "- > > Ordinal Data: In contrast, ordinal data does have an inherent order or ranking. \n",
    "- It represents qualities or attributes that can be ranked or ordered based on their level or position.\n",
    "- For example, consider ratings for a movie, ranging from \"excellent\" to \"good\" to \"average\" to \"poor\" to \"terrible.\"\n",
    "- Here, the categories have a clear order or ranking based on the quality of the movie.\n",
    "\n",
    "> || To summarize, nominal data consists of categories without a natural order, while ordinal data involves categories with an inherent order or ranking."
   ]
  },
  {
   "cell_type": "markdown",
   "id": "f843d6ec-ce94-4467-93ca-b90929f5224a",
   "metadata": {},
   "source": [
    "# 8. Which type of plot can be used to display data in terms of range?"
   ]
  },
  {
   "cell_type": "markdown",
   "id": "3ee3386e-624f-4454-a5e3-8e0fb4209e36",
   "metadata": {},
   "source": [
    "> Histogram. \n",
    "- > Think of a histogram as a chart with bars. \n",
    "- Each bar represents a group of numbers, and the height of the bar shows how many numbers fall into that group. \n",
    "- It helps us see the range or spread of data by showing which groups have more or fewer numbers.\n",
    "- Hence, a histogram is a useful way to display data in terms of range."
   ]
  },
  {
   "cell_type": "markdown",
   "id": "12362ed5-c931-44f7-956d-fa41513ff98b",
   "metadata": {},
   "source": [
    "# 9. Describe the difference between descriptive and inferential statistics. Give an example of each type of statistics and explain how they are used."
   ]
  },
  {
   "cell_type": "markdown",
   "id": "de60a69b-9bcd-433b-844c-93ffac22988a",
   "metadata": {},
   "source": [
    "- > > Refer Ans 2 "
   ]
  },
  {
   "cell_type": "markdown",
   "id": "2e094a26-d806-402d-9373-d4bbb82dc28c",
   "metadata": {},
   "source": [
    "# 10. What are some common measures of central tendency and variability used in statistics? Explain how each measure can be used to describe a dataset."
   ]
  },
  {
   "cell_type": "markdown",
   "id": "ef50ae72-244b-49f5-92e5-7e9e7b099e6e",
   "metadata": {},
   "source": [
    "- > The common measures of central tendency used in Statistics are : Mean , Mode and Median. \n",
    "- > The common measures of variability used in Statistics are : Range , Variance and Standard Deviation  "
   ]
  },
  {
   "cell_type": "markdown",
   "id": "47a7939d-ad1b-4b86-8042-1ed613365361",
   "metadata": {},
   "source": [
    "> * - > Mean: The mean is like finding the average of a group of numbers. You add up all the numbers and divide by how many there are. It gives you an idea of what the \"typical\" value is in the dataset.\n",
    "> * - > Median: The median is the middle value when the numbers are arranged in order. If you line up the numbers from smallest to largest, the median is the one in the middle. It helps when there are really big or small numbers that might throw off the average.\n",
    "> * - > Mode: The mode is like finding the most popular item in a group. It's the number or value that shows up the most often. It tells you what is the \"favorite\" or \"most common\" choice.\n"
   ]
  },
  {
   "cell_type": "markdown",
   "id": "fd9f2178-0ca3-431d-868f-df59854751f7",
   "metadata": {},
   "source": [
    "- > > Range: The range is like looking at how much the numbers spread out. \n",
    "- You subtract the smallest number from the largest number to find the range. \n",
    "- It gives you an idea of how much the values differ from each other.\n",
    "- > > Variance: Variance measures how spread out the numbers are from the average. \n",
    "- It takes into account the differences between each number and the average, and tells you how much they vary. \n",
    "- It gives you a more precise measure of the variability in the dataset.\n",
    "- > > Standard Deviation: The standard deviation is like a more understandable version of the variance.\n",
    "- It tells you, on average, how far away each number is from the average. It gives you a better sense of the typical difference between the numbers."
   ]
  },
  {
   "cell_type": "code",
   "execution_count": null,
   "id": "dfed6779-8dc1-437b-8397-a34652a1d243",
   "metadata": {},
   "outputs": [],
   "source": []
  }
 ],
 "metadata": {
  "kernelspec": {
   "display_name": "Python 3 (ipykernel)",
   "language": "python",
   "name": "python3"
  },
  "language_info": {
   "codemirror_mode": {
    "name": "ipython",
    "version": 3
   },
   "file_extension": ".py",
   "mimetype": "text/x-python",
   "name": "python",
   "nbconvert_exporter": "python",
   "pygments_lexer": "ipython3",
   "version": "3.10.8"
  }
 },
 "nbformat": 4,
 "nbformat_minor": 5
}
