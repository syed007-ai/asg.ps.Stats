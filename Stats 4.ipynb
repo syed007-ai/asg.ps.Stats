{
 "cells": [
  {
   "cell_type": "markdown",
   "id": "e231a145-3729-49ba-9821-8942458cb8f2",
   "metadata": {},
   "source": [
    "# 1. What are the Probability Mass Function (PMF) and Probability Density Function (PDF)? Explain with an example."
   ]
  },
  {
   "cell_type": "markdown",
   "id": "a4e39c0d-3d51-4be3-92ad-926463351988",
   "metadata": {},
   "source": [
    "PMF and PDF are the types of Probability Distribution function, PMF stands for Probability Mass Function and PDF stands for probability density function. These describe the probability of diffeerent outcomes in a random variable. \n",
    "==> Probability Density Function :\n",
    "- Specifies distribution of continuous random variable \n",
    "- This follows Gaussian/Normal Distribution \n",
    "- Describes likelihood of values within a given range.\n",
    "- eg : Height of the students in a classroom. \n",
    "\n",
    "==> Probability Mass Function :\n",
    "- Specifies distribution of Discrete random variable. \n",
    "- eg : Rolling a fair dice = {1,2,3,4,5,6} \n",
    "- here, Pr(X=1) = 1/6 ... Pr(X=6) = 1/6 \n",
    "- Each outcome has an equal chance of occuring. \n",
    "- This follows Uniform Distribution "
   ]
  },
  {
   "cell_type": "markdown",
   "id": "66dff546-b0ca-4cc7-945e-4f7439646104",
   "metadata": {},
   "source": [
    "# 2. What is Cumulative Density Function (CDF)? Explain with an example. Why CDF is used?"
   ]
  },
  {
   "cell_type": "markdown",
   "id": "62823cb6-87eb-4d8e-9f88-5922f8207719",
   "metadata": {},
   "source": [
    "CDF stands for Cumulative Density Function. It adds cumulatively through every point. \n",
    "* > The CDF gives the probability that a random variable is less than or equal to a specific value. \n",
    "\n",
    "==> For a Probability Mass Function (PMF) of a discrete random variable, the CDF is the cumulative sum of the probabilities for each possible value up to a given point. The CDF will start at 0 and end at 1 since it represents the cumulative probability.\n",
    "\n",
    "==> For a Probability Density Function (PDF) of a continuous random variable, the CDF is obtained by integrating the PDF from negative infinity up to a given point. The CDF will start at 0 and end at 1 since it represents the cumulative probability.\n",
    "\n",
    "- To understand the CDF, let's consider an example:\n",
    "- -> Suppose we have a continuous random variable representing the heights of adult males. The CDF would tell us the probability that a randomly selected adult male has a height less than or equal to a specific value.\n",
    "\n",
    "- -> For instance, let's say the CDF tells us that the probability of finding an adult male with a height less than or equal to 6 feet is 0.75. This means that 75% of adult males have a height of 6 feet or less.\n",
    "\n",
    "- The CDF provides a cumulative view of the probability distribution. \n",
    "- By evaluating the CDF at different values, we can determine the likelihood of observing values below a certain threshold.\n",
    "- It can also be used to calculate probabilities within specific ranges or compare different values within the distribution.\n",
    "\n",
    "- In simple terms, the CDF is like a running tally of the probabilities as you move along the range of possible values of a random variable.\n",
    "- It helps us understand how likely it is to encounter values up to a given point in a probability distribution.\n"
   ]
  },
  {
   "cell_type": "markdown",
   "id": "ef5930dc-76c9-446d-9dce-b302fc2cb6c0",
   "metadata": {},
   "source": [
    "- It is a useful tool in statistics and probability theory as it allows us to calculate various metrics, such as percentiles or median values, and make comparisons between different data points or distributions."
   ]
  },
  {
   "cell_type": "markdown",
   "id": "acafc3f6-a026-434c-9b83-cbfb5c498289",
   "metadata": {},
   "source": [
    "# 3. What are some examples of situations where the normal distribution might be used as a model? Explain how the parameters of the normal distribution relate to the shape of the distribution."
   ]
  },
  {
   "cell_type": "markdown",
   "id": "cec801fa-2ae3-49d0-9f35-dc79e21cff4a",
   "metadata": {},
   "source": [
    "* Normal Distribution is also called as Gaussian Distribution, it gives us a bell type graph.  It is a statistical model used to desrcibe many natural phenomena. Some of the eg's where Normal Distribution model can be used are : - \n",
    "- => Height of People: The heights of people in a population often follow a normal distribution. Most people tend to be around the average height, and fewer individuals are found at extreme heights (very tall or very short).\n",
    "- => Test Scores: In a large group of students taking a standardized test, their scores often follow a normal distribution. The majority of students score close to the average, and fewer students score extremely high or low.\n",
    "- => Errors in Measurements: When taking measurements in scientific experiments, there are often small errors associated with the measurements. These errors are often assumed to follow a normal distribution."
   ]
  },
  {
   "cell_type": "markdown",
   "id": "22e2d4bd-f899-4aa6-a6cf-e18845a5ea0c",
   "metadata": {},
   "source": [
    "> The normal distribution is characterized by two parameters: mean (μ) and standard deviation (σ). \n",
    "> - The mean represents the central value of the distribution, around which most of the data points cluster.\n",
    "> - It determines the center of the bell-shaped curve.\n",
    "> The standard deviation represents the spread or dispersion of the data points. \n",
    "> - A smaller standard deviation means the data points are closely packed around the mean, resulting in a narrow and tall curve. > - A larger standard deviation indicates more spread-out data points, leading to a broader and flatter curve.\n",
    "> -  The mean determines where the center of the curve is, and the standard deviation determines how spread out the data is around that center. \n",
    "- => So, if you have a higher standard deviation, the curve will be wider, and if you have a lower standard deviation, the curve will be narrower. \n",
    "- Hence,  The normal distribution is a helpful model to understand and analyze various phenomena due to its well-known and predictable properties."
   ]
  },
  {
   "cell_type": "markdown",
   "id": "e849522d-bd7d-4462-8236-04e3ea70541d",
   "metadata": {},
   "source": [
    "# 4.  Explain the importance of Normal Distribution. Give a few real-life examples of Normal Distribution."
   ]
  },
  {
   "cell_type": "markdown",
   "id": "beb28bd9-cd0d-4604-8c4d-081e2cbebf94",
   "metadata": {},
   "source": [
    "- Normal Distribution is a commonly used statistical model to describe many natural phenomena. \n",
    "- It is a helpful model to understand and analyze various phenomena due to its well-known and predictable properties. \n",
    "- The normal distribution is essential because it describes the way many natural phenomena and random events occur in the world. - It forms a bell-shaped curve, which helps us understand how data is typically distributed around an average value. \n",
    "- This distribution is widely used in various fields because of its predictability and simplicity.\n",
    "* ==>  Here are a few real-life examples of Normal Distribution :- \n",
    "1.  Height of People: When we measure the height of a large group of people, we often find that most individuals cluster around the average height, and very few are extremely tall or short.\n",
    "2. IQ Scores: Intelligence quotient (IQ) scores in a large population tend to follow a normal distribution. Most people score close to the average IQ, and fewer individuals have exceptionally high or low scores.\n",
    "3. Test Scores: In exams or standardized tests taken by many students, the distribution of scores often forms a bell-shaped curve. The majority of students score around the average, with fewer getting extremely high or low scores.\n",
    "4. Errors in Measurements: When conducting scientific experiments or collecting data, small errors can occur in measurements. These errors usually follow a normal distribution, which helps researchers understand the margin of error and the reliability of the results.\n",
    "5. Weight of Products: The weight of items produced in factories, such as bags of chips or bottles of soda, often follows a normal distribution. Most products are close to the target weight, with fewer falling significantly above or below it.\n",
    "> - The normal distribution is crucial because it simplifies the analysis of data, allows us to make predictions, and provides a foundation for many statistical methods. \n",
    "> - It helps researchers and decision-makers better understand and model various real-world scenarios, making it a fundamental concept in the study of statistics and data analysis."
   ]
  },
  {
   "cell_type": "markdown",
   "id": "e41cc69b-5561-453e-bee4-3b9a9ee59136",
   "metadata": {},
   "source": [
    "# 5. What is Bernaulli Distribution? Give an Example. What is the difference between Bernoulli Distribution and Binomial Distribution?"
   ]
  },
  {
   "cell_type": "markdown",
   "id": "7891bde9-957a-4535-8cd4-47f921f037fc",
   "metadata": {},
   "source": [
    "> => The Bernoulli distribution is a simple probability distribution used for modeling a single binary event, which can have only two possible outcomes (usually referred to as success and failure). \n",
    "- It represents the probability of success (usually denoted by \"p\") in a single trial.\n",
    "> eg : Flipling a fair coin , either heads or tails. \n",
    "> - We can define success as getting heads (H) and failure as getting tails (T). The probability of success (getting heads) is p = 0.5, and the probability of failure (getting tails) is 1 - p = 0.5.\n",
    "\n",
    "- => Difference between Bernoulli Distribution and Binomial Distribution:- \n",
    "\n",
    "> *  Bernoulli Distribution deals with a single binary event with only two possible outcomes (success or failure) in a single trial.\n",
    "> * Whereas, Binomial Distribution, on the other hand, deals with the number of successes (or \"yes\" outcomes) in a fixed number of independent trials, each having the same probability of success (p). It is the sum of multiple independent Bernoulli trials.\n",
    "\n",
    "> => Bernoulli Distribution is about the outcome of one single coin flip (head or tail), while Binomial Distribution is about the number of heads in multiple coin flips (how many heads in 10 flips, for example).\n"
   ]
  },
  {
   "cell_type": "markdown",
   "id": "2d046d8d-45e7-417e-b206-e8d3a86fbc21",
   "metadata": {},
   "source": [
    "# 6. Consider a dataset with a mean of 50 and a standard deviation of 10. If we assume that the dataset is normally distributed, what is the probability that a randomly selected observation will be greater than 60? Use the appropriate formula and show your calculations."
   ]
  },
  {
   "cell_type": "code",
   "execution_count": 10,
   "id": "ddc4f397-2de5-4b32-ab8e-e46b4a80d5f9",
   "metadata": {},
   "outputs": [
    {
     "name": "stdout",
     "output_type": "stream",
     "text": [
      "The probability that a randomly selected observation will be greater than 60 is : 0.1587 \n"
     ]
    }
   ],
   "source": [
    "from scipy.stats import norm\n",
    "\n",
    "def get_greater_than_probability(mean, std_dev,value ):\n",
    "    z_score = (value - mean)/ std_dev # since, it is a normally distributed dataset , we use Z_score \n",
    "    # it helps us to find out, how many std deviation away, the value is from the mean. \n",
    "    probability = 1-norm.cdf(z_score)\n",
    "    # the Z_score probability score , gives us the probability that a randomly selected observation is less than or equal to 60\n",
    "    ## so subtracting it from total probability , to get the greater than probability \n",
    "    \n",
    "    return probability\n",
    "\n",
    "#given \n",
    "mean = 50 \n",
    "std_dev = 10 \n",
    "value = 60 # since , we are given to find the prob that a randomly selected observation will be greater than 60 \n",
    "\n",
    "result = get_greater_than_probability(mean,std_dev,value)\n",
    "\n",
    "print(f\"The probability that a randomly selected observation will be greater than 60 is : {result.round(4)} \" )"
   ]
  },
  {
   "cell_type": "markdown",
   "id": "0dae1729-98ea-45c0-97e3-0cddde5981fa",
   "metadata": {},
   "source": [
    "# 7. Explain uniform Distribution with an example."
   ]
  },
  {
   "cell_type": "markdown",
   "id": "c927b5c8-ebe0-49b6-bff4-7129dd19616c",
   "metadata": {},
   "source": [
    "- => Uniform Distribution , has only a discrete random variable. \n",
    "* > eg : Tossing a fair coin , the probabilities of both outcomes of the event , i.e getting a head and getting a tail = 1/2 \n",
    "* > eg : Rolling a fair dice , the probabilities of getting outcomes 1,2,3,4,5,6 = 1/6 \n",
    "- Uniform Distribution follows Probability Mass Function . \n",
    "- The probabilites of all the outcomes of the event are same . \n",
    "\n",
    "- => Uniform distribution is a probability distribution where all the values in a given range are equally likely to occur. \n",
    "- It's like having a fair and unbiased random selection.\n",
    "\n",
    "- > eg : Imagine you have a dish filled with candies of different colors – red, blue, green, and yellow. If the candies are uniformly distributed, it means you have an equal number of each color. \n",
    "- So, if you blindly pick a candy with your eyes closed, the chance of getting any color is the same – 25% for each color. \n",
    "- It's like rolling a fair four-sided dice, where each number has an equal probability of 1/4 (25%) of being rolled.\n",
    "\n",
    "> > In a uniform distribution, every possible outcome has an equal chance of happening, making it simple and predictable, just like your candy dish with an equal number of candies of each color.\n"
   ]
  },
  {
   "cell_type": "markdown",
   "id": "fae581cf-9f4d-4211-81c9-06bc08f5d902",
   "metadata": {},
   "source": [
    "# 8. What is the z score? State the importance of the z score."
   ]
  },
  {
   "cell_type": "markdown",
   "id": "07d62706-ebd8-49b9-aad1-14c3a28db366",
   "metadata": {},
   "source": [
    "- -> Z Score is a statistical measure that represents how far a data point/ value is away from the mean, in terms of standard deviation. \n",
    "- -> It helps to understand how far a data point is from the average and whether it is above or below the mean. \n",
    "- It can also be stated as how many no.of standard deviations , the specific data point is away from the mean. \n",
    "- -> It helps us compare different numbers and understand their significance in a simple and consistent manner, making data analysis easier."
   ]
  },
  {
   "cell_type": "markdown",
   "id": "b2ff067a-c4dc-421f-b367-432684b11d63",
   "metadata": {},
   "source": [
    "# 9. What is Central Limit Theorem? State the significance of the Central Limit Theorem."
   ]
  },
  {
   "cell_type": "markdown",
   "id": "b92c5032-982e-4319-a27d-c10dd1ca6306",
   "metadata": {},
   "source": [
    "- => The Central Limit Theorem states that when we take a large number of random samples from any population, the distribution of the sample means will approximate a normal distribution, even if the original population is not normally distributed. \n",
    "> - This is significant because it allows us to use the properties of the normal distribution for making inferences about the population and helps us perform statistical analyses with greater accuracy and reliability.\n",
    "> > Example: Let's say you want to know the average height of students in a school but measuring everyone is time-consuming. Instead, you randomly select small groups of students and find the average height in each group.\n",
    "> - According to the Central Limit Theorem, the distribution of these average heights will be approximately normal, even if the heights of individual students are not normally distributed. \n",
    "- > This allows you to make confident estimates about the average height of all students in the school without measuring every single student."
   ]
  },
  {
   "cell_type": "markdown",
   "id": "f5a41744-d849-413b-8394-0185f0ff526d",
   "metadata": {},
   "source": [
    "# 10. State the assumptions of the Central Limit Theorem."
   ]
  },
  {
   "cell_type": "markdown",
   "id": "8ef4aa75-f59f-4c26-a9ae-8e42d7d336da",
   "metadata": {},
   "source": [
    "> - The assumptions of the Central Limit Theorem (CTL) are:\n",
    "\n",
    "> 1. Random Sampling: The data should be collected randomly from the population of interest.\n",
    "> 2. Sample Size: The sample size should be sufficiently large (typically n ≥ 30) to ensure a good approximation to a normal distribution.\n",
    "> 3. Independence: The individual observations within the sample should be independent of each other.\n",
    "> 4. Finite Variance: The population should have a finite variance, or the sample size should be large enough for the CTL to hold even if the population variance is infinite."
   ]
  }
 ],
 "metadata": {
  "kernelspec": {
   "display_name": "Python 3 (ipykernel)",
   "language": "python",
   "name": "python3"
  },
  "language_info": {
   "codemirror_mode": {
    "name": "ipython",
    "version": 3
   },
   "file_extension": ".py",
   "mimetype": "text/x-python",
   "name": "python",
   "nbconvert_exporter": "python",
   "pygments_lexer": "ipython3",
   "version": "3.10.8"
  }
 },
 "nbformat": 4,
 "nbformat_minor": 5
}
