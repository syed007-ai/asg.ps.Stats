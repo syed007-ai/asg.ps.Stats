{
 "cells": [
  {
   "cell_type": "markdown",
   "id": "4566b38b-7f24-48e8-b629-995e368f77fe",
   "metadata": {},
   "source": [
    "# 1. What are the three measures of central tendency?"
   ]
  },
  {
   "cell_type": "markdown",
   "id": "635746c3-cd20-4833-9c88-66afa876b48f",
   "metadata": {},
   "source": [
    "* > The three measures of Central tendencya are Mean, Median and Mode."
   ]
  },
  {
   "cell_type": "markdown",
   "id": "5c0d750a-d75c-41a5-980c-190361425b14",
   "metadata": {},
   "source": [
    "# 2. What is the difference between the mean, median, and mode? How are they used to measure the\n",
    "central tendency of a dataset?"
   ]
  },
  {
   "cell_type": "markdown",
   "id": "cabc739a-c204-4226-839f-b73bd386e6ce",
   "metadata": {},
   "source": [
    "> * Mean : Mean is the measure of central tendency which gives the average of the data \n",
    "> > Mean: Think of the mean as the average. \n",
    "- It's like adding up all the numbers in a group and dividing by how many there are. \n",
    "- The mean tells you the \"typical\" value in the dataset. \n",
    "- For example, if you have a set of test scores, the mean would give you the average score of all the students.\n",
    "> * Median : Median is the second measure of central tendency , which gives the middle value of the data, but it is specifically used when there are outliers in the data.\n",
    "> > The median is like finding the middle value. \n",
    "- If you line up all the numbers from smallest to largest, the median is the one in the middle. \n",
    "- It's useful when you have extreme values that can throw off the average. \n",
    "- For example, if you have a group of people's ages, the median would give you the age of the person right in the middle, regardless of whether some people are really old or really young.\n",
    "> * Mode : Mode is the third measure of central tendency, it is specifically used for the categorical data. It gives the most frequently occured category in the data. \n",
    "> > The mode is like finding the most popular choice. \n",
    "- It's the value that shows up the most often in a group of numbers.\n",
    "- For example, if you ask a group of people their favorite color and most of them say \"blue,\" then \"blue\" is the mode.\n",
    "- The mode tells you the most common or popular choice.\n",
    "> > - These measures help us measure the central tendency of a dataset, which means they help us understand what the \"typical\" or \"central\" value is. \n",
    "- The mean gives us the average value, the median gives us the middle value, and the mode gives us the most common value. \n",
    "- By using these measures, we can get a better idea of the overall pattern or characteristic of the data."
   ]
  },
  {
   "cell_type": "markdown",
   "id": "29edbfa9-65b4-4aec-9783-be809beb3c40",
   "metadata": {},
   "source": [
    "# 3. Measure the three measures of central tendency for the given height data:\n",
    "[178,177,176,177,178.2,178,175,179,180,175,178.9,176.2,177,172.5,178,176.5]"
   ]
  },
  {
   "cell_type": "code",
   "execution_count": 12,
   "id": "cb7d8357-2d7e-4f44-b9f4-58292d112460",
   "metadata": {},
   "outputs": [
    {
     "name": "stdout",
     "output_type": "stream",
     "text": [
      "Mean of the height data :  177.01875\n",
      "Median of the height data :  177.0\n",
      "Mode of the height data :  178\n"
     ]
    }
   ],
   "source": [
    "from statistics import mean, median , mode \n",
    "\n",
    "height = [178,177,176,177,178.2,178,175,179,180,175,178.9,176.2,177,172.5,178,176.5] \n",
    "print(\"Mean of the height data : \" ,mean(height) ) # average of the data\n",
    "print(\"Median of the height data : \" ,median(height) ) # the middle element (handles outliers in the data)\n",
    "print(\"Mode of the height data : \" ,mode(height) )   # the most frequent element / category \n"
   ]
  },
  {
   "cell_type": "markdown",
   "id": "5ed34f0f-fefe-4cec-9bf1-0f793a703f5e",
   "metadata": {},
   "source": [
    "#  4. Find the standard deviation for the given data:\n",
    "[178,177,176,177,178.2,178,175,179,180,175,178.9,176.2,177,172.5,178,176.5]"
   ]
  },
  {
   "cell_type": "code",
   "execution_count": 6,
   "id": "782afae6-173e-4e09-8f9b-bbb8863a5dcd",
   "metadata": {},
   "outputs": [
    {
     "name": "stdout",
     "output_type": "stream",
     "text": [
      " The Standard deviation of the given data :  1.8472389305844188\n"
     ]
    }
   ],
   "source": [
    "from statistics import stdev\n",
    "\n",
    "# standard devaition is the square root of variance. \n",
    "                        #N\n",
    "# population variance - Σ  (( Xi - µ ) ^ 2) / N \n",
    "                      #i=1\n",
    "                        #n\n",
    "# sample variance - Σ  (( Xi - µ ) ^ 2) / n - 1   # n -1 is considered in the denominator as we should create an unbiased estimator of the population Variance \n",
    "                      #i=1 \n",
    "    \n",
    "height = [178,177,176,177,178.2,178,175,179,180,175,178.9,176.2,177,172.5,178,176.5]\n",
    "\n",
    "print(\" The Standard deviation of the given data : \", stdev(height))\n",
    "\n",
    "# Variance is a measure that tells us how spread out the numbers are in a dataset. \n",
    "# It gives us an idea of the average squared difference between each number and the mean (the typical value). \n",
    "# In simpler terms, variance tells us how much the numbers \"vary\" or \"deviate\" from the average. \n",
    "# A high variance means the numbers are more spread out and diverse, while a low variance means the numbers are closer together and less diverse.\n",
    "\n",
    "## Standard deviation is like a friendlier version of variance.\n",
    "## It is another measure that tells us how spread out the numbers are in a dataset. \n",
    "## It is simply the square root of the variance. \n",
    "## Standard deviation is often preferred because it gives us a more understandable value and is in the same units as the original data. \n",
    "## It helps us see, on average, how much each number deviates or differs from the mean. \n",
    "## A high standard deviation means the numbers have a wide range and vary a lot, while a low standard deviation means the numbers are more tightly packed and don't vary as much.\n"
   ]
  },
  {
   "cell_type": "markdown",
   "id": "df3a9871-d5eb-4d12-b8d8-3b4466531d4c",
   "metadata": {},
   "source": [
    "# 5. How are measures of dispersion such as range, variance, and standard deviation used to describe\n",
    "the spread of a dataset? Provide an example."
   ]
  },
  {
   "cell_type": "markdown",
   "id": "7a912fc4-22be-451b-81dd-83cdbd2f32f3",
   "metadata": {},
   "source": [
    "* > Range: Range is the simplest measure of dispersion. \n",
    "- It tells us the difference between the highest and lowest values in a dataset.\n",
    "- If the range is large, it means the numbers are spread out over a wide range. \n",
    "- For example, if we have a dataset of test scores ranging from 60 to 100, the range is 40, indicating a wide spread of scores.\n",
    "\n",
    "* > Variance: Variance goes a step further and calculates the average squared difference of each data point from the mean.\n",
    "- It considers how each number deviates from the average. \n",
    "- If the variance is high, it means the data points are more spread out, as they have larger differences from the mean. \n",
    "- For example, if we have a dataset of heights where the mean is 170 cm, and the heights vary a lot from 150 cm to 190 cm, the variance will be higher.\n",
    "\n",
    "* > Standard Deviation: Standard deviation is the square root of the variance. \n",
    "- It gives us a more intuitive understanding of the dispersion. \n",
    "- If the standard deviation is high, it means the numbers have a wide range and vary a lot from the average. \n",
    "- If it is low, it means the numbers are more tightly packed and don't vary as much from the average. \n",
    "- It provides a measure of the typical difference from the mean. \n",
    "- For instance, if we have a dataset of exam scores with a mean of 70 and a standard deviation of 5, it indicates that most scores are close to 70, with few outliers.\n",
    "\n",
    "> > In summary, the range gives us the overall span of the data, while variance and standard deviation provide more detailed insights into the variability of the dataset.\n",
    "- They help us understand how the numbers are dispersed, whether they are tightly packed around the mean or widely spread out."
   ]
  },
  {
   "cell_type": "markdown",
   "id": "a7e776f8-754e-4caf-aa84-a068a4ce8306",
   "metadata": {},
   "source": [
    "# 6. What is a Venn diagram?"
   ]
  },
  {
   "cell_type": "markdown",
   "id": "530c82b6-bbf5-422d-950f-2a7c41efe1de",
   "metadata": {},
   "source": [
    ">  Venn diagram is the representation of the relation between two sets. \n",
    "* Venn diagrams are helpful in visually representing data or concepts that involve multiple categories or groups. \n",
    "- They allow us to understand the relationships and similarities between different sets, making it easier to analyze and compare information."
   ]
  },
  {
   "cell_type": "markdown",
   "id": "bc5f9863-53da-4f9d-a8fc-f13ec160c4f6",
   "metadata": {},
   "source": [
    "# 7.  For the two given sets A = (2,3,4,5,6,7) & B = (0,2,6,8,10). Find:\n",
    "- (i) A B\n",
    "- (ii) A ⋃ B"
   ]
  },
  {
   "cell_type": "code",
   "execution_count": 14,
   "id": "b48d294a-4677-4dee-9793-f37bda21d814",
   "metadata": {},
   "outputs": [
    {
     "name": "stdout",
     "output_type": "stream",
     "text": [
      "A n B  :  {2, 6}\n",
      "A U B :  {0, 2, 3, 4, 5, 6, 7, 8, 10}\n"
     ]
    }
   ],
   "source": [
    "A = set((2,3,4,5,6,7))\n",
    "B = set((0,2,6,8,10) )\n",
    "print(\"A n B  : \", A.intersection(B))\n",
    "print(\"A U B : \", A.union(B))\n",
    "\n",
    "# the intersection (A ∩ B) gives the common elements between the two sets, \n",
    "# while the union (A ∪ B) combines all the unique elements from both sets."
   ]
  },
  {
   "cell_type": "markdown",
   "id": "0cc7897d-1376-4663-995e-48cc69be0d51",
   "metadata": {},
   "source": [
    "# 8. What do you understand about skewness in data?"
   ]
  },
  {
   "cell_type": "markdown",
   "id": "4f387d8a-f754-47b6-bc7f-31fd42496b35",
   "metadata": {},
   "source": [
    ">> Skewness in data refers to the measure of asymmetry or the lack of symmetry in the distribution of values. \n",
    "- In simpler terms, it tells us if the data is leaning more towards one side or the other. \n",
    "- If the data is symmetric, it has no skewness. \n",
    "- If it is skewed, it means that the data is stretched more towards either the left or the right side of the distribution.\n",
    "- Skewness helps us understand the shape and imbalance in the data."
   ]
  },
  {
   "cell_type": "markdown",
   "id": "5847ddf6-b6b9-4c74-bdf7-020311cac770",
   "metadata": {},
   "source": [
    "# 9. If a data is right skewed then what will be the position of median with respect to mean?"
   ]
  },
  {
   "cell_type": "markdown",
   "id": "be7945e6-ab12-468a-9fc1-3f93572e7521",
   "metadata": {},
   "source": [
    "> > If a data is right skewed, it means that the tail of the distribution extends towards the right side, indicating a longer tail on the right. In terms of the median and the mean:\n",
    "\n",
    "- The median is the middle value in a dataset when it is arranged in ascending order. When the data is right skewed, the larger values on the right side pull the mean towards that direction. As a result, the mean is greater than the median.\n",
    "\n",
    "> > In simpler terms, imagine a line of people arranged by their heights. \n",
    "- If there are a few exceptionally tall individuals on the right side, the average height (mean) will be influenced and pulled towards the taller end.\n",
    "- However, the middle person (median) will still be close to the middle of the entire line, not influenced by the extreme values. \n",
    "- Therefore, in right-skewed data, the median is typically smaller than the mean."
   ]
  },
  {
   "cell_type": "markdown",
   "id": "54367df5-703c-41f9-9a68-eb715b4a0066",
   "metadata": {},
   "source": [
    "# 10. Explain the difference between covariance and correlation. How are these measures used in statistical analysis?"
   ]
  },
  {
   "cell_type": "markdown",
   "id": "fbb76d05-e5cf-4c9c-aa81-c8c6f62e81cc",
   "metadata": {},
   "source": [
    "Covariance and correlation are measures used to understand the relationship between two variables in statistical analysis.\n",
    "\n",
    "Covariance measures how much two variables vary together. If the covariance is positive, it means the variables tend to increase or decrease together. If it is negative, they tend to have an inverse relationship. However, covariance alone doesn't tell us about the strength or direction of the relationship.\n",
    "\n",
    "Correlation, on the other hand, is a standardized measure that ranges between -1 and 1. It not only tells us about the direction (positive or negative) but also the strength of the relationship between the variables. A correlation of 1 indicates a perfect positive relationship, -1 indicates a perfect negative relationship, and 0 indicates no relationship.\n",
    "\n",
    "In summary, covariance measures the extent to which variables vary together, while correlation provides a standardized measure of the strength and direction of the relationship between variables."
   ]
  },
  {
   "cell_type": "markdown",
   "id": "340ef9ce-ebb2-419d-995e-ae63d637125b",
   "metadata": {},
   "source": [
    "# 11. What is the formula for calculating the sample mean? Provide an example calculation for a dataset."
   ]
  },
  {
   "cell_type": "markdown",
   "id": "ffcf226b-3579-48fa-b245-4cf314aad1df",
   "metadata": {},
   "source": [
    ">> The sample mean is a measure of central tendency that represents the average value of a dataset. It is calculated by summing up all the values in the dataset and dividing by the total number of values.\n",
    "\n",
    "* Formula for sample mean:\n",
    "- > - Sample Mean = (Sum of all values) / (Number of values)\n",
    "\n",
    "> For example, let's calculate the sample mean of the dataset [5, 8, 12, 15, 20]:\n",
    "- Sample Mean = (5 + 8 + 12 + 15 + 20) / 5 = 60 / 5 = 12\n",
    "\n",
    "- Therefore, the sample mean of the dataset is 12."
   ]
  },
  {
   "cell_type": "markdown",
   "id": "d9dd43d6-99f2-4d9a-a99f-1e52ea1ab201",
   "metadata": {},
   "source": [
    "# 12. For a normal distribution data what is the relationship between its measure of central tendency?"
   ]
  },
  {
   "cell_type": "markdown",
   "id": "106ef09e-9a73-431b-abba-df80745eb6d4",
   "metadata": {},
   "source": [
    ">> In a normal distribution, the three measures of central tendency (mean, median, and mode) are all located at the same point, making them equal. \n",
    "- This means that in a symmetric bell-shaped distribution, the mean, median, and mode will all be the same value."
   ]
  },
  {
   "cell_type": "markdown",
   "id": "1fac805b-f727-4f41-bd48-0e2e039039c2",
   "metadata": {},
   "source": [
    "# 13. How is covariance different from correlation?"
   ]
  },
  {
   "cell_type": "markdown",
   "id": "debf64df-eef1-4053-9d3b-6db836777f99",
   "metadata": {},
   "source": [
    ">> Covariance and correlation are related but different. \n",
    "- >  Covariance measures the extent to which two variables vary together, without any standardization. \n",
    "- It can take any value, positive or negative, depending on the data.\n",
    "\n",
    "- > Correlation, on the other hand, is a standardized measure that ranges from -1 to 1. \n",
    "- It not only measures the direction but also the strength of the relationship between two variables.\n",
    "- Correlation is preferred when comparing relationships across different datasets because it is not affected by the scale of the variables.\n"
   ]
  },
  {
   "cell_type": "markdown",
   "id": "b885048e-897d-4de1-b041-31539efd17b3",
   "metadata": {},
   "source": [
    "# 14. How do outliers affect measures of central tendency and dispersion? Provide an example"
   ]
  },
  {
   "cell_type": "markdown",
   "id": "d210d031-50d0-4248-9508-c3f46865f5a6",
   "metadata": {},
   "source": [
    ">> Outliers are extreme values that differ significantly from other values in a dataset. \n",
    "- They can have a notable impact on measures of central tendency and dispersion.\n",
    "\n",
    "> Measures of central tendency like the mean are highly sensitive to outliers. \n",
    "- A single extreme value can pull the mean towards it, resulting in a distorted representation of the average.\n",
    "- On the other hand, the median is less affected by outliers because it only considers the middle value, making it more robust.\n",
    "\n",
    "> Outliers can also affect measures of dispersion such as variance and standard deviation. \n",
    "- Since these measures involve the squared differences from the mean, outliers can significantly increase their values, indicating greater variability in the data.\n",
    "\n",
    "> - For example, consider a dataset of ages: [25, 30, 32, 28, 35, 40, 100].\n",
    "- The outlier value \"100\" is significantly higher than the other values. \n",
    "- If we calculate the mean, it will be greatly influenced by this outlier, resulting in a higher average age. \n",
    "- Similarly, the standard deviation will also be affected, indicating greater variability due to the presence of the outlier."
   ]
  }
 ],
 "metadata": {
  "kernelspec": {
   "display_name": "Python 3 (ipykernel)",
   "language": "python",
   "name": "python3"
  },
  "language_info": {
   "codemirror_mode": {
    "name": "ipython",
    "version": 3
   },
   "file_extension": ".py",
   "mimetype": "text/x-python",
   "name": "python",
   "nbconvert_exporter": "python",
   "pygments_lexer": "ipython3",
   "version": "3.10.8"
  }
 },
 "nbformat": 4,
 "nbformat_minor": 5
}
